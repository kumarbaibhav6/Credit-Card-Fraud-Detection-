{
 "cells": [
  {
   "cell_type": "code",
   "execution_count": 0,
   "metadata": {
    "application/vnd.databricks.v1+cell": {
     "cellMetadata": {
      "byteLimit": 2048000,
      "rowLimit": 10000
     },
     "inputWidgets": {},
     "nuid": "b11bbc17-570e-4162-ad7b-08cba442aea5",
     "showTitle": false,
     "tableResultSettingsMap": {},
     "title": ""
    }
   },
   "outputs": [
    {
     "output_type": "stream",
     "name": "stdout",
     "output_type": "stream",
     "text": [
      "+----------+---------------------+----------------+--------------------+-------------+------+---------+-------+------+--------------------+--------------+-----+-----+-------+---------+--------+--------------------+----------+--------------------+----------+------------------+-----------+--------+-------------+\n|Unnamed: 0|trans_date_trans_time|          cc_num|            merchant|     category|   amt|    first|   last|gender|              street|          city|state|  zip|    lat|     long|city_pop|                 job|       dob|           trans_num| unix_time|         merch_lat| merch_long|is_fraud|merch_zipcode|\n+----------+---------------------+----------------+--------------------+-------------+------+---------+-------+------+--------------------+--------------+-----+-----+-------+---------+--------+--------------------+----------+--------------------+----------+------------------+-----------+--------+-------------+\n|         0|  2019-01-01 00:00:18|2703186189652095|fraud_Rippin, Kub...|     misc_net|  4.97| Jennifer|  Banks|     F|      561 Perry Cove|Moravian Falls|   NC|28654|36.0788| -81.1781|    3495|Psychologist, cou...|1988-03-09|0b242abb623afc578...|1325376018|         36.011293| -82.048315|       0|        28705|\n|         1|  2019-01-01 00:00:44|    630423337322|fraud_Heller, Gut...|  grocery_pos|107.23|Stephanie|   Gill|     F|43039 Riley Green...|        Orient|   WA|99160|48.8878|-118.2105|     149|Special education...|1978-06-21|1f76529f857473494...|1325376044|49.159046999999994|-118.186462|       0|         null|\n|         2|  2019-01-01 00:00:51|  38859492057661|fraud_Lind-Buckridge|entertainment|220.11|   Edward|Sanchez|     M|594 White Dale Su...|    Malad City|   ID|83252|42.1808| -112.262|    4154|Nature conservati...|1962-01-19|a1a22d70485983eac...|1325376051|         43.150704|-112.154481|       0|        83236|\n+----------+---------------------+----------------+--------------------+-------------+------+---------+-------+------+--------------------+--------------+-----+-----+-------+---------+--------+--------------------+----------+--------------------+----------+------------------+-----------+--------+-------------+\nonly showing top 3 rows\n\n"
     ]
    }
   ],
   "source": [
    "#read the dataset\n",
    "df = spark.read.format('csv')\\\n",
    "    .option('header','true')\\\n",
    "        .option('inferschema','true')\\\n",
    "            .load('/FileStore/tables/credit_card_transactions.csv')\n",
    "df.show(3)"
   ]
  },
  {
   "cell_type": "code",
   "execution_count": 0,
   "metadata": {
    "application/vnd.databricks.v1+cell": {
     "cellMetadata": {
      "byteLimit": 2048000,
      "rowLimit": 10000
     },
     "inputWidgets": {},
     "nuid": "cba7d12b-0c2d-4f65-9488-4da30a45e1ea",
     "showTitle": false,
     "tableResultSettingsMap": {},
     "title": ""
    }
   },
   "outputs": [
    {
     "output_type": "stream",
     "name": "stdout",
     "output_type": "stream",
     "text": [
      "root\n |-- Unnamed: 0: integer (nullable = true)\n |-- trans_date_trans_time: timestamp (nullable = true)\n |-- cc_num: long (nullable = true)\n |-- merchant: string (nullable = true)\n |-- category: string (nullable = true)\n |-- amt: double (nullable = true)\n |-- first: string (nullable = true)\n |-- last: string (nullable = true)\n |-- gender: string (nullable = true)\n |-- street: string (nullable = true)\n |-- city: string (nullable = true)\n |-- state: string (nullable = true)\n |-- zip: integer (nullable = true)\n |-- lat: double (nullable = true)\n |-- long: double (nullable = true)\n |-- city_pop: integer (nullable = true)\n |-- job: string (nullable = true)\n |-- dob: date (nullable = true)\n |-- trans_num: string (nullable = true)\n |-- unix_time: integer (nullable = true)\n |-- merch_lat: double (nullable = true)\n |-- merch_long: double (nullable = true)\n |-- is_fraud: integer (nullable = true)\n |-- merch_zipcode: integer (nullable = true)\n\n"
     ]
    }
   ],
   "source": [
    "#print schema\n",
    "df.printSchema()"
   ]
  },
  {
   "cell_type": "code",
   "execution_count": 0,
   "metadata": {
    "application/vnd.databricks.v1+cell": {
     "cellMetadata": {
      "byteLimit": 2048000,
      "rowLimit": 10000
     },
     "inputWidgets": {},
     "nuid": "68f16601-d14e-45c3-b94b-dd77cee32347",
     "showTitle": false,
     "tableResultSettingsMap": {},
     "title": ""
    }
   },
   "outputs": [
    {
     "output_type": "stream",
     "name": "stdout",
     "output_type": "stream",
     "text": [
      "+----------+---------------------+------+--------+--------+---+-----+----+------+------+----+-----+---+---+----+--------+---+---+---------+---------+---------+----------+--------+-------------+\n|Unnamed: 0|trans_date_trans_time|cc_num|merchant|category|amt|first|last|gender|street|city|state|zip|lat|long|city_pop|job|dob|trans_num|unix_time|merch_lat|merch_long|is_fraud|merch_zipcode|\n+----------+---------------------+------+--------+--------+---+-----+----+------+------+----+-----+---+---+----+--------+---+---+---------+---------+---------+----------+--------+-------------+\n|         0|                    0|     0|       0|       0|  0|    0|   0|     0|     0|   0|    0|  0|  0|   0|       0|  0|  0|        0|        0|        0|         0|       0|       195973|\n+----------+---------------------+------+--------+--------+---+-----+----+------+------+----+-----+---+---+----+--------+---+---+---------+---------+---------+----------+--------+-------------+\n\n"
     ]
    }
   ],
   "source": [
    "from pyspark.sql.functions import *\n",
    "#check null values\n",
    "null_counts = df.select([sum(col(c).isNull().cast(\"int\")).alias(c) for c in df.columns])\n",
    "null_counts.show()\n"
   ]
  },
  {
   "cell_type": "code",
   "execution_count": 0,
   "metadata": {
    "application/vnd.databricks.v1+cell": {
     "cellMetadata": {
      "byteLimit": 2048000,
      "rowLimit": 10000
     },
     "inputWidgets": {},
     "nuid": "0e9a020c-8643-4d05-b580-b3d6a66f8a42",
     "showTitle": false,
     "tableResultSettingsMap": {},
     "title": ""
    }
   },
   "outputs": [
    {
     "output_type": "stream",
     "name": "stdout",
     "output_type": "stream",
     "text": [
      "+---------------------+\n|trans_date_trans_time|\n+---------------------+\n|  2019-01-01 00:00:18|\n|  2019-01-01 00:00:44|\n|  2019-01-01 00:00:51|\n|  2019-01-01 00:01:16|\n|  2019-01-01 00:03:06|\n+---------------------+\nonly showing top 5 rows\n\n+-----------+-----+----+----+\n|day_of_week|month|year|hour|\n+-----------+-----+----+----+\n|          3|    1|2019|   0|\n|          3|    1|2019|   0|\n|          3|    1|2019|   0|\n|          3|    1|2019|   0|\n|          3|    1|2019|   0|\n+-----------+-----+----+----+\nonly showing top 5 rows\n\n"
     ]
    }
   ],
   "source": [
    "#extract day of week, month, year, time of day\n",
    "df.select(col(\"trans_date_trans_time\")).show(5)\n",
    "#transformations\n",
    "df = df.withColumn(\"day_of_week\", dayofweek(col(\"trans_date_trans_time\")))  # 1 = Sunday, 7 = Saturday\n",
    "df = df.withColumn(\"month\", month(col(\"trans_date_trans_time\")))\n",
    "df = df.withColumn(\"year\", year(col(\"trans_date_trans_time\")))\n",
    "df = df.withColumn(\"hour\", hour(col(\"trans_date_trans_time\")))\n",
    "\n",
    "df.select(col(\"day_of_week\"),col(\"month\"),col(\"year\"),col(\"hour\")).show(5)"
   ]
  },
  {
   "cell_type": "code",
   "execution_count": 0,
   "metadata": {
    "application/vnd.databricks.v1+cell": {
     "cellMetadata": {
      "byteLimit": 2048000,
      "rowLimit": 10000
     },
     "inputWidgets": {},
     "nuid": "82b0da2a-5fe1-4e69-a545-d0998eecefc9",
     "showTitle": false,
     "tableResultSettingsMap": {},
     "title": ""
    }
   },
   "outputs": [
    {
     "output_type": "stream",
     "name": "stdout",
     "output_type": "stream",
     "text": [
      "+----+-----------------+\n|hour|fraud_count_by_ht|\n+----+-----------------+\n|  22|             1931|\n|  23|             1904|\n|   1|              658|\n|   0|              635|\n|   2|              625|\n|   3|              609|\n|  14|               86|\n|  19|               81|\n|  18|               81|\n|  13|               80|\n|  15|               79|\n|  17|               78|\n|  16|               76|\n|  21|               74|\n|  12|               67|\n+----+-----------------+\nonly showing top 15 rows\n\n"
     ]
    }
   ],
   "source": [
    "#analyze fraud by hour of day\n",
    "df_fraud_hour = df.filter(col(\"is_fraud\") == 1).groupBy(\"hour\").agg(count(col(\"is_fraud\")).alias(\"fraud_count_by_ht\"))\n",
    "df_fraud_hour.sort(col(\"fraud_count_by_ht\").desc()).show(15)\n",
    "\n",
    "#convert dataframe into pandas df for visualization\n",
    "import matplotlib.pyplot as plt \n",
    "df_fraud_hour = df_fraud_hour.toPandas()"
   ]
  },
  {
   "cell_type": "code",
   "execution_count": 0,
   "metadata": {
    "application/vnd.databricks.v1+cell": {
     "cellMetadata": {
      "byteLimit": 2048000,
      "rowLimit": 10000
     },
     "inputWidgets": {},
     "nuid": "ab9a3a13-573a-4894-8189-ae6368c7983f",
     "showTitle": false,
     "tableResultSettingsMap": {},
     "title": ""
    }
   },
   "outputs": [
    {
     "output_type": "display_data",
     "data": {
      "image/png": "[encoded data removed]"
     },
     "metadata": {
      "application/vnd.databricks.v1+output": {
       "addedWidgets": {},
       "arguments": {},
       "data": "data:image/png;base64,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\n",
       "datasetInfos": [],
       "metadata": {},
       "removedWidgets": [],
       "type": "image"
      }
     },
     "output_type": "display_data"
    }
   ],
   "source": [
    "# Set figure size before plotting\n",
    "plt.figure(figsize=(12, 10))\n",
    "\n",
    "# Plot the bar chart\n",
    "plt.bar(data = df_fraud_hour, x = 'hour', height = 'fraud_count_by_ht')\n",
    "# Show the plot\n",
    "plt.xlabel(\"Hour of the Day\")\n",
    "plt.ylabel(\"Number of Fraudulent Transactions\")\n",
    "plt.title(\"Fraudulent Transactions per Hour\")\n",
    "plt.grid(axis=\"y\", linestyle=\"--\", alpha=0.7)\n",
    "plt.show()\n"
   ]
  },
  {
   "cell_type": "code",
   "execution_count": 0,
   "metadata": {
    "application/vnd.databricks.v1+cell": {
     "cellMetadata": {
      "byteLimit": 2048000,
      "rowLimit": 10000
     },
     "inputWidgets": {},
     "nuid": "0f528d79-6c4d-4b05-8318-d1f91d0d7308",
     "showTitle": false,
     "tableResultSettingsMap": {},
     "title": ""
    }
   },
   "outputs": [
    {
     "output_type": "stream",
     "name": "stdout",
     "output_type": "stream",
     "text": [
      "+-----+--------------------+\n|month|fraud_count_by_month|\n+-----+--------------------+\n|    3|                 938|\n|    5|                 935|\n|    2|                 853|\n|    1|                 849|\n|    6|                 688|\n|    4|                 678|\n|   12|                 592|\n|   10|                 454|\n|    9|                 418|\n|   11|                 388|\n|    8|                 382|\n|    7|                 331|\n+-----+--------------------+\n\n"
     ]
    },
    {
     "output_type": "display_data",
     "data": {
      "text/html": [
       "<div>\n",
       "<style scoped>\n",
       "    .dataframe tbody tr th:only-of-type {\n",
       "        vertical-align: middle;\n",
       "    }\n",
       "\n",
       "    .dataframe tbody tr th {\n",
       "        vertical-align: top;\n",
       "    }\n",
       "\n",
       "    .dataframe thead th {\n",
       "        text-align: right;\n",
       "    }\n",
       "</style>\n",
       "<table border=\"1\" class=\"dataframe\">\n",
       "  <thead>\n",
       "    <tr style=\"text-align: right;\">\n",
       "      <th></th>\n",
       "      <th>month</th>\n",
       "      <th>fraud_count_by_month</th>\n",
       "    </tr>\n",
       "  </thead>\n",
       "  <tbody>\n",
       "    <tr>\n",
       "      <th>0</th>\n",
       "      <td>1</td>\n",
       "      <td>849</td>\n",
       "    </tr>\n",
       "    <tr>\n",
       "      <th>1</th>\n",
       "      <td>3</td>\n",
       "      <td>938</td>\n",
       "    </tr>\n",
       "    <tr>\n",
       "      <th>2</th>\n",
       "      <td>2</td>\n",
       "      <td>853</td>\n",
       "    </tr>\n",
       "    <tr>\n",
       "      <th>3</th>\n",
       "      <td>6</td>\n",
       "      <td>688</td>\n",
       "    </tr>\n",
       "    <tr>\n",
       "      <th>4</th>\n",
       "      <td>5</td>\n",
       "      <td>935</td>\n",
       "    </tr>\n",
       "  </tbody>\n",
       "</table>\n",
       "</div>"
      ]
     },
     "metadata": {
      "application/vnd.databricks.v1+output": {
       "addedWidgets": {},
       "arguments": {},
       "data": "<div>\n<style scoped>\n    .dataframe tbody tr th:only-of-type {\n        vertical-align: middle;\n    }\n\n    .dataframe tbody tr th {\n        vertical-align: top;\n    }\n\n    .dataframe thead th {\n        text-align: right;\n    }\n</style>\n<table border=\"1\" class=\"dataframe\">\n  <thead>\n    <tr style=\"text-align: right;\">\n      <th></th>\n      <th>month</th>\n      <th>fraud_count_by_month</th>\n    </tr>\n  </thead>\n  <tbody>\n    <tr>\n      <th>0</th>\n      <td>1</td>\n      <td>849</td>\n    </tr>\n    <tr>\n      <th>1</th>\n      <td>3</td>\n      <td>938</td>\n    </tr>\n    <tr>\n      <th>2</th>\n      <td>2</td>\n      <td>853</td>\n    </tr>\n    <tr>\n      <th>3</th>\n      <td>6</td>\n      <td>688</td>\n    </tr>\n    <tr>\n      <th>4</th>\n      <td>5</td>\n      <td>935</td>\n    </tr>\n  </tbody>\n</table>\n</div>",
       "datasetInfos": [],
       "metadata": {},
       "removedWidgets": [],
       "textData": null,
       "type": "htmlSandbox"
      }
     },
     "output_type": "display_data"
    }
   ],
   "source": [
    "#analyze fraud by month \n",
    "df_fraud_month = df.filter(col(\"is_fraud\") == 1).groupBy(\"month\").agg(count(col(\"is_fraud\"))\\\n",
    "    .alias(\"fraud_count_by_month\"))\n",
    "df_fraud_month.sort(col(\"fraud_count_by_month\").desc()).show()\n",
    "#convert into pandas df\n",
    "df_fraud_month = df_fraud_month.toPandas()\n",
    "df_fraud_month.head()\n"
   ]
  },
  {
   "cell_type": "code",
   "execution_count": 0,
   "metadata": {
    "application/vnd.databricks.v1+cell": {
     "cellMetadata": {
      "byteLimit": 2048000,
      "rowLimit": 10000
     },
     "inputWidgets": {},
     "nuid": "9235cbf3-6604-4a5e-984b-ffffb35a0e13",
     "showTitle": false,
     "tableResultSettingsMap": {},
     "title": ""
    }
   },
   "outputs": [
    {
     "output_type": "display_data",
     "data": {
      "image/png": "[encoded data removed]"
     },
     "metadata": {
      "application/vnd.databricks.v1+output": {
       "addedWidgets": {},
       "arguments": {},
       "data": "data:image/png;base64,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\n",
       "datasetInfos": [],
       "metadata": {},
       "removedWidgets": [],
       "type": "image"
      }
     },
     "output_type": "display_data"
    }
   ],
   "source": [
    "# Set figure size before plotting\n",
    "plt.figure(figsize=(12, 10))\n",
    "\n",
    "# Plot the bar chart\n",
    "plt.bar(data = df_fraud_month, x = 'month', height = 'fraud_count_by_month')\n",
    "# Show the plot\n",
    "plt.xlabel(\"Month\")\n",
    "plt.ylabel(\"Number of Fraudulent Transactions\")\n",
    "plt.title(\"Fraudulent Transactions per Month\")\n",
    "plt.grid(axis=\"y\", linestyle=\"--\", alpha=0.7)\n",
    "plt.show()"
   ]
  },
  {
   "cell_type": "code",
   "execution_count": 0,
   "metadata": {
    "application/vnd.databricks.v1+cell": {
     "cellMetadata": {
      "byteLimit": 2048000,
      "rowLimit": 10000
     },
     "inputWidgets": {},
     "nuid": "93cb7d66-231e-4300-ab7e-473a30cc3a5a",
     "showTitle": false,
     "tableResultSettingsMap": {},
     "title": ""
    }
   },
   "outputs": [
    {
     "output_type": "stream",
     "name": "stdout",
     "output_type": "stream",
     "text": [
      "+-----------+------------------+\n|day_of_week|fraud_count_by_day|\n+-----------+------------------+\n|          7|              1227|\n|          1|              1216|\n|          2|              1182|\n|          6|              1079|\n|          5|              1008|\n|          3|               935|\n|          4|               859|\n+-----------+------------------+\n\n"
     ]
    },
    {
     "output_type": "display_data",
     "data": {
      "text/html": [
       "<div>\n",
       "<style scoped>\n",
       "    .dataframe tbody tr th:only-of-type {\n",
       "        vertical-align: middle;\n",
       "    }\n",
       "\n",
       "    .dataframe tbody tr th {\n",
       "        vertical-align: top;\n",
       "    }\n",
       "\n",
       "    .dataframe thead th {\n",
       "        text-align: right;\n",
       "    }\n",
       "</style>\n",
       "<table border=\"1\" class=\"dataframe\">\n",
       "  <thead>\n",
       "    <tr style=\"text-align: right;\">\n",
       "      <th></th>\n",
       "      <th>day_of_week</th>\n",
       "      <th>fraud_count_by_day</th>\n",
       "    </tr>\n",
       "  </thead>\n",
       "  <tbody>\n",
       "    <tr>\n",
       "      <th>0</th>\n",
       "      <td>1</td>\n",
       "      <td>1216</td>\n",
       "    </tr>\n",
       "    <tr>\n",
       "      <th>1</th>\n",
       "      <td>6</td>\n",
       "      <td>1079</td>\n",
       "    </tr>\n",
       "    <tr>\n",
       "      <th>2</th>\n",
       "      <td>3</td>\n",
       "      <td>935</td>\n",
       "    </tr>\n",
       "    <tr>\n",
       "      <th>3</th>\n",
       "      <td>5</td>\n",
       "      <td>1008</td>\n",
       "    </tr>\n",
       "    <tr>\n",
       "      <th>4</th>\n",
       "      <td>4</td>\n",
       "      <td>859</td>\n",
       "    </tr>\n",
       "  </tbody>\n",
       "</table>\n",
       "</div>"
      ]
     },
     "metadata": {
      "application/vnd.databricks.v1+output": {
       "addedWidgets": {},
       "arguments": {},
       "data": "<div>\n<style scoped>\n    .dataframe tbody tr th:only-of-type {\n        vertical-align: middle;\n    }\n\n    .dataframe tbody tr th {\n        vertical-align: top;\n    }\n\n    .dataframe thead th {\n        text-align: right;\n    }\n</style>\n<table border=\"1\" class=\"dataframe\">\n  <thead>\n    <tr style=\"text-align: right;\">\n      <th></th>\n      <th>day_of_week</th>\n      <th>fraud_count_by_day</th>\n    </tr>\n  </thead>\n  <tbody>\n    <tr>\n      <th>0</th>\n      <td>1</td>\n      <td>1216</td>\n    </tr>\n    <tr>\n      <th>1</th>\n      <td>6</td>\n      <td>1079</td>\n    </tr>\n    <tr>\n      <th>2</th>\n      <td>3</td>\n      <td>935</td>\n    </tr>\n    <tr>\n      <th>3</th>\n      <td>5</td>\n      <td>1008</td>\n    </tr>\n    <tr>\n      <th>4</th>\n      <td>4</td>\n      <td>859</td>\n    </tr>\n  </tbody>\n</table>\n</div>",
       "datasetInfos": [],
       "metadata": {},
       "removedWidgets": [],
       "textData": null,
       "type": "htmlSandbox"
      }
     },
     "output_type": "display_data"
    }
   ],
   "source": [
    "#analyze fraud by day of week\n",
    "df_fraud_by_day = df.filter(col(\"is_fraud\") == 1).groupBy(\"day_of_week\").agg(count(col(\"is_fraud\"))\\\n",
    "    .alias(\"fraud_count_by_day\"))\n",
    "df_fraud_by_day.sort(col(\"fraud_count_by_day\").desc()).show()\n",
    "#convert into pandas df\n",
    "df_fraud_by_day = df_fraud_by_day.toPandas()\n",
    "df_fraud_by_day.head()\n"
   ]
  },
  {
   "cell_type": "code",
   "execution_count": 0,
   "metadata": {
    "application/vnd.databricks.v1+cell": {
     "cellMetadata": {
      "byteLimit": 2048000,
      "rowLimit": 10000
     },
     "inputWidgets": {},
     "nuid": "2cfeebf5-78ba-4b9b-923c-3d1461749d55",
     "showTitle": false,
     "tableResultSettingsMap": {},
     "title": ""
    }
   },
   "outputs": [
    {
     "output_type": "display_data",
     "data": {
      "image/png": "[encoded data removed]"
     },
     "metadata": {
      "application/vnd.databricks.v1+output": {
       "addedWidgets": {},
       "arguments": {},
       "data": "data:image/png;base64,iVBORw0KGgoAAAANSUhEUgAAAtoAAAJcCAYAAADHBwP2AAAAOXRFWHRTb2Z0d2FyZQBNYXRwbG90bGliIHZlcnNpb24zLjUuMSwgaHR0cHM6Ly9tYXRwbG90bGliLm9yZy/YYfK9AAAACXBIWXMAAAsTAAALEwEAmpwYAABBGElEQVR4nO3de5heZ13v//f3mUyahCSTNM2hmRzJoSFEod2hLdIt2GqltECLirARC+Ku/kTEw1aqWwW2p7oR3KhbkA1oQeWstRSKxQLRKi20BUyapk3SNIdJc+gknWSapElmvr8/1hoYajJ5muSew+P7dV1zzbrvdfo+az2Z+czK/awVmYkkSZKks6sx0gVIkiRJrcigLUmSJBVg0JYkSZIKMGhLkiRJBRi0JUmSpAIM2pIkSVIBBm1J/+lFxF9FxO+e7WX1HRFxe0RcP9J1SNJwMmhLGjUi4tGIOBwRvYO+5o50XSVExEsiYscQ828fdAyORcTRQe33D2etz1REvCMi/npwX2ZelZk3j1RNZ1tEvCEi+gadky0R8ZcRsXyka5M0ehi0JY02L8/MyYO+dg6eGRHjRqqw4VQH08mZORn4G+B/DzomPzuw3H+W4zGShjjGX63PTwfwg8Bh4L6IWDVsxUka1Qzakka9iMiIeHNEbAQ21n3vjYjtEXEgIu6LiP86aPnvGt7x9KvHEXFhRNwfEQcj4hPAhEHz3hARd51g/0tPUts1EfHNiHgiIv4tIr530LxHI+J/RMS/R0RPRHwiIiZExLOA24G5p3Pl/jSOxzsi4pMR8ZH6NT8QEasHzX9bRHTV8x6KiCvq/osj4qv1a3ssIv4sIsYPWu+5EfHFiNgXEbsj4jci4qXAbwA/Xr+ub9XLfiUifrqebkTEb0bE1ojYU9fVUc9bVL++6yNiW0Q8HhH/c9A+L46Ie+vXuTsi3nOSY/SSiNhR1/R4fS5eN2j+ORHxR/U+dkfE+yNi4tPWfVtE7AL+cqjzkZl9mbk5M38OWAO8Y9B+PhURu+rz/88R8dy6/wX1ftsGLfuqgeMlqTUYtCWNFdcClwAr6/bXgecD5wJ/C3wqIiaccM1B6qB4C/DRet1PAT9yOgVFxIXAh4GfAWYAfwHcGhHnDFrs1cBLgcXA9wJvyMwngauAnSe7ct+Ea3lmx+MVwMeBacCtwJ/Vr+EC4OeBF2TmFOCHgUfrdfqAXwLOA14IXAH8XL3eFOCfgC8Ac4GlwJ2Z+QXg94FP1K/reSeo/Q311w8AzwYmD9QzyGXABfU+fzsinlP3vxd4b2ZOBZYAnxziGM2pa+8Ergc+UL9egJuA5fUxW1ov89tPW/dcYCFwwxD7eLq/A/7roPbtwDJgFnA/1f9OkJlfB7qBKwct+3rgI89gX5JGOYO2pNHmlvoK6hMRccug/j/IzH2ZeRggM/86M7sz83hmvhs4hyqYncqlQDvwfzLzWGZ+miqkno4bgL/IzHvqq5o3A0/V+xjwJ5m5MzP3AZ+lCnZnwzM9Hndl5uczs4/qj4yBANxXL7syItoz89HM3Fxv877MvLve5qNUf0i8uF7vGmBXZr47M49k5sHMvKfJ2l8HvCczH8nMXuDXgdfEdw/ReGdmHs7MbwHfGlTvMWBpRJyXmb2Zefcp9vVbmflUZq4BPge8OiKC6tz9Un0MD1L9cfCaQev1A2+v1z3c5OsC2EkV0AHIzA/Xx+Ypqivdzxu4eg/cDPwEQEScS/VHzt8+g31JGuUM2pJGm2szc1r9de2g/u2DF6qHZDxY/5f8E1TjZM9rYvtzga7MzEF9W0+z1oXArwz6w+AJYH69jwG7Bk0forp6ezY80+Px9DomRMS4zNwE/CJVCNwTER8fGMYSEcsj4rZ66MMBqjA6sM35wObTrH0u333MtwLjgNlD1Dtw3N5EdSV6Q0R8PSKuGWI/++v/PRi8n7nATGAS1XjqgfP2hbp/wN7MPNL8S/q2TmAfQES0RcRNEbG5Pn6P1ssMHMO/Bl4e1VCiVwP/kpmPncY+JY1SBm1JY8W3g3E9/vjXqMLJ9MycBvQAUS/yJFWQGjBn0PRjQGd9VXPAgkHT37VuRAxe9+m2A7836A+DaZk5KTM/9kxez2l6Jsdj6A1l/m1mXkb1h0MCf1jPeh+wAVhWD9X4jUHb3E417GPI2k5iZ72vAQuA48DuJmrdmJmvpRqK8YfAp+ugeiLTnzZvQb3vx6k+uPjcQeeto/5gY7Ov4WSuA/6lnv5vwCupPijZASyq+6N+LV3AV4FXUQ0b+ehp7lPSKGXQljQWTaEKZnuBcRHx28DUQfO/CbwsIs6tg/IvDpr31XrdX4iI9oh4FXDxoPnfAp4bEc+vxzi/Y4g6/h/wsxFxSVSeFRFX1+OXT2U3MGPQMIIzcarjcVIRcUFEXF6PKz9CFUD7B233ANAbESuA/2/QqrcB50fEL9YfLJwSEZfU83YDiyLiZL9jPgb8UkQsjojJfGdM9/Em6v2JiJiZmf3AE3V3/xCrvDMixtd/jFwDfKpe9/8BfxwRs+rtdkbED59q/yepqa1+LX8KvAR4Zz1rCtVQom6qP95+/wSrf4Tqj6TvoRrfLamFGLQljUX/SPVf/Q9TDQc4wncPpfgoVWB+FLgD+MTAjMw8SnUF8Q1U/8X/4wwKOJn5MPC/qD7otxH4rjuQDJaZ9wL/neqDfPuBTfV2TykzN1AFzkfq4Qtncr/wUx2PoZxD9cHAx6mGa8yiGjMN8D+orsoepAqmg4/jQeCHgJfX622k+nAjVB8wBeiOiPtPsM8PU52jfwa21PW+pcl6Xwo8EBG9VB+MfM0QY6h3UZ2XnVQfQvzZ+rgDvI3qfN1dD+v4J5ob4z/YC+s6DgBfofrj5gWZubae/xGq89EFrAdONJ7876mu7v99Zh56hvuXNMrFdw9TlCRp7IuIlwB/nZnzRriUU4qIzcDPZOY/jXQtks4ur2hLkjRCIuJHqMaDf2mka5F09vlEMUmSRkBEfIXqPuivr8eNS2oxDh2RJEmSCnDoiCRJklRASw4dOe+883LRokUjXYYkSZJa3H333fd4Zs480byWDNqLFi3i3nvvHekyJEmS1OIi4qRPF3boiCRJklSAQVuSJEkqwKAtSZIkFWDQliRJkgowaEuSJEkFGLQlSZKkAgzakiRJUgEGbUmSJKkAg7YkSZJUgEFbkiRJKsCgLUmSJBVg0JYkSZIKMGhLkiRJBRi0JUmSpAIM2pIkSVIBBm1JkiSpAIO2JEmSVIBBW5IkSSrAoC1JkiQVYNCWJEmSCjBoS5IkSQUYtCVJkqQCDNqSJElSAQZtSZIkqYBxI12AJEmSTm3RjZ8b6RJGtUdvunqkS/gPvKItSZIkFWDQliRJkgowaEuSJEkFGLQlSZKkAvww5FnmBxWGNho/qCBJklSCV7QlSZKkAgzakiRJUgHFgnZEfDgi9kTEukF974qIDRHx7xHx9xExbdC8X4+ITRHxUET88KD+l9Z9myLixlL1SpIkSWdTySvafwW89Gl9XwRWZeb3Ag8Dvw4QESuB1wDPrdf584hoi4g24P8CVwErgdfWy0qSJEmjWrGgnZn/DOx7Wt8dmXm8bt4NzKunXwl8PDOfyswtwCbg4vprU2Y+kplHgY/Xy0qSJEmj2kjedeSngE/U051UwXvAjroPYPvT+i850cYi4gbgBoB58+axdu1aAObMmcPEiRPZsmULAFOnTmXBggWsW1eNaGlra2PlypVs3ryZQ4cOAbB06VJ6enrYu3cvAHPnzqW9vZ2tW7cC0NHRQWdnJ+vXrwegvb2dFStWsHHjRq5b2AfAHV0Nlk5Nnj0lAbi/u8Hxfrh4Zj8AW3uD9U8EV82r2k8eD+7oanBlZz/PGletc/uOBiunJQsnV+2v7W0wrgEXzajWeeRgsOlAcGVn1e45FnxpZ4Or5vUxoa06Lp/d1uDC85J5k6pt3L2nwcRx8Lxzq3UePhBs7w2umFu19z0VrNnV4JoFfbRHtY1btja4ZFZy/sRqG3ftbjB9fPLc6VX7wZ5gz+HgxXOqbew9Ety1u8G1C/sIIIFbtrZx2ez+b5+XJUuWcPDgQfbs2TMi5+nIkSMALF++nO7ubrq7uwHo7Oyk0WiwfXv1tps+fTqzZ89mw4YNAIwfP54LLriAhx56iKNHjwKwYsUKdu/ezf79+wGYP38+/f39dHV1ATBjxgxmzJjBww8/DMCECRNYtmwZGzZs4NixYwCsXLmSrq4uenp6AFi4cCHHjh1j586dAMycOZOOjg42bdoEwKRJk1iyZAnr16+nr696z61atYpt27Zx4MABABYvXszhw4fZtWsXALNmzWLKlCls3rwZgMmTJ7N48WLWrVtHZhIRrFq1ii1bttDb2+t58jx5njxPnqdRdp46J+V/+hwxc0K1zppdDWZNTJ7TUbUf2B/09vaOyHkaSmTmkAuciYhYBNyWmaue1v8/gdXAqzIzI+LPgLsz86/r+R8Cbq8Xf2lm/nTd/3rgksz8+aH2u3r16rz33nvP7otpkrf3G5q395Mk6fSYMYY2UhkjIu7LzNUnmjfsV7Qj4g3ANcAV+Z2U3wXMH7TYvLqPIfolSZKkUWtYb+8XES8Ffg14RWYeGjTrVuA1EXFORCwGlgFfA74OLIuIxRExnuoDk7cOZ82SJEnS6Sh2RTsiPga8BDgvInYAb6e6y8g5wBcjAqrhIj+bmQ9ExCeB9cBx4M2Z2Vdv5+eBfwTagA9n5gOlapYkSZLOlmJBOzNfe4LuDw2x/O8Bv3eC/s8Dnz+LpUmSJEnF+WRISZIkqQCDtiRJklTASN5HWzot3t5oaN5CUZKk0cEr2pIkSVIBBm1JkiSpAIO2JEmSVIBBW5IkSSrAoC1JkiQVYNCWJEmSCjBoS5IkSQUYtCVJkqQCDNqSJElSAQZtSZIkqQCDtiRJklSAQVuSJEkqwKAtSZIkFWDQliRJkgowaEuSJEkFGLQlSZKkAgzakiRJUgEGbUmSJKkAg7YkSZJUgEFbkiRJKsCgLUmSJBVg0JYkSZIKMGhLkiRJBRi0JUmSpAIM2pIkSVIBBm1JkiSpAIO2JEmSVIBBW5IkSSrAoC1JkiQVYNCWJEmSCjBoS5IkSQUYtCVJkqQCDNqSJElSAQZtSZIkqQCDtiRJklSAQVuSJEkqwKAtSZIkFWDQliRJkgowaEuSJEkFGLQlSZKkAgzakiRJUgEGbUmSJKkAg7YkSZJUwLiRLkCSJI1ti2783EiXMKo9etPVI12CRohXtCVJkqQCDNqSJElSAQZtSZIkqQCDtiRJklSAQVuSJEkqwKAtSZIkFWDQliRJkgowaEuSJEkFGLQlSZKkAgzakiRJUgEGbUmSJKkAg7YkSZJUgEFbkiRJKsCgLUmSJBVg0JYkSZIKMGhLkiRJBRi0JUmSpAIM2pIkSVIBBm1JkiSpAIO2JEmSVIBBW5IkSSrAoC1JkiQVYNCWJEmSCjBoS5IkSQUYtCVJkqQCDNqSJElSAQZtSZIkqQCDtiRJklTAuJEuQJKkkhbd+LmRLmFUe/Smq0e6BKllFbuiHREfjog9EbFuUN+5EfHFiNhYf59e90dE/ElEbIqIf4+Iiwatc329/MaIuL5UvZIkSdLZVHLoyF8BL31a343AnZm5DLizbgNcBSyrv24A3gdVMAfeDlwCXAy8fSCcS5IkSaNZsaCdmf8M7Hta9yuBm+vpm4FrB/V/JCt3A9Mi4nzgh4EvZua+zNwPfJH/GN4lSZKkUWe4x2jPzszH6uldwOx6uhPYPmi5HXXfyfr/g4i4gepqOPPmzWPt2rUAzJkzh4kTJ7JlyxYApk6dyoIFC1i3rhrR0tbWxsqVK9m8eTOHDh0CYOnSpfT09LB3714A5s6dS3t7O1u3bgWgo6ODzs5O1q9fD0B7ezsrVqxg48aNXLewD4A7uhosnZo8e0oCcH93g+P9cPHMfgC29gbrnwiumle1nzwe3NHV4MrOfp41rlrn9h0NVk5LFk6u2l/b22BcAy6aUa3zyMFg04Hgys6q3XMs+NLOBlfN62NCW3VcPrutwYXnJfMmVdu4e0+DiePgeedW6zx8INjeG1wxt2rveypYs6vBNQv6aI9qG7dsbXDJrOT8idU27trdYPr45LnTq/aDPcGew8GL51Tb2HskuGt3g2sX9hFAArdsbeOy2f3fPi9Llizh4MGD7Nmz5xmfp4FjfOfOBvMnJ8unVnV8a1+Dw8fh0llVHTsOBd94PHj5gqp9pA9u39HG5XP76WjPlj1PA8d48eLFHD58mF27dgEwa9YspkyZwubNmwGYPHkyixcvZt26dWQmEcGqVavYsmULvb29Z3yezsa/pyNHjgCwfPlyuru76e7uBqCzs5NGo8H27dWPh+nTpzN79mw2bNgAwPjx47ngggt46KGHOHr0KAArVqxg9+7d7N+/H4D58+fT399PV1cXADNmzGDGjBk8/PDDAEyYMIFly5axYcMGjh07BsDKlSvp6uqip6cHgIULF3Ls2DF27twJwMyZM+no6GDTpk0ATJo0iSVLlrB+/Xr6+qr37apVq9i2bRsHDhzwPA3TeTp/Yo7oz72ZE6p11uxqMGti8pyOqv3A/mD/0eCy2dU2Hjsc3LMnuHZh1T6WcNu2Nl48p59zz6nWKfFzb9++fWd8njon5Zj//VTyPHV3d5+Vf0+dk3JM/34qfZ56e3tH5OfeUCIzh1zgTETEIuC2zFxVt5/IzGmD5u/PzOkRcRtwU2beVfffCbwNeAkwITN/t+7/LeBwZv7RUPtdvXp13nvvvQVe0an5oZuhnY0P3XiMh+YHm6Tv5s+Moflzubyz9XPZ4zy0kfr9FxH3ZebqE80b7tv77a6HhFB/31P3dwHzBy03r+47Wb8kSZI0qg130L4VGLhzyPXAPwzq/8n67iOXAj31EJN/BK6MiOn1hyCvrPskSZKkUa3YGO2I+BjV0I/zImIH1d1DbgI+GRFvArYCr64X/zzwMmATcAh4I0Bm7ouI3wG+Xi/3vzLz6R+wlCRJkkadYkE7M197kllXnGDZBN58ku18GPjwWSxNkiRJKs5HsEuSJEkFGLQlSZKkAgzakiRJUgEGbUmSJKkAg7YkSZJUgEFbkiRJKsCgLUmSJBVg0JYkSZIKMGhLkiRJBRi0JUmSpAIM2pIkSVIBBm1JkiSpAIO2JEmSVIBBW5IkSSrAoC1JkiQVYNCWJEmSCjBoS5IkSQUYtCVJkqQCDNqSJElSAQZtSZIkqQCDtiRJklTAuJEuQNLotOjGz410CaPaozddPdIlSJJGOa9oS5IkSQUYtCVJkqQCDNqSJElSAQZtSZIkqQCDtiRJklSAQVuSJEkqwKAtSZIkFWDQliRJkgowaEuSJEkFGLQlSZKkAgzakiRJUgEGbUmSJKkAg7YkSZJUgEFbkiRJKsCgLUmSJBVg0JYkSZIKMGhLkiRJBRi0JUmSpAIM2pIkSVIBBm1JkiSpAIO2JEmSVIBBW5IkSSrAoC1JkiQVYNCWJEmSCjBoS5IkSQUYtCVJkqQCDNqSJElSAQZtSZIkqQCDtiRJklSAQVuSJEkqwKAtSZIkFTBupAuQpP+sFt34uZEuYVR79KarR7oESTojXtGWJEmSCjBoS5IkSQUYtCVJkqQCDNqSJElSAacM2hGxJCLOqadfEhG/EBHTilcmSZIkjWHNXNH+DNAXEUuBDwDzgb8tWpUkSZI0xjUTtPsz8zhwHfCnmfmrwPlly5IkSZLGtmaC9rGIeC1wPXBb3dderiRJkiRp7GsmaL8ReCHwe5m5JSIWAx8tW5YkSZI0tp3yyZCZuR74hUHtLcAflixKkiRJGutOGbQj4kXAO4CF9fIBZGY+u2xpkiRJ0th1yqANfAj4JeA+oK9sOZIkSVJraCZo92Tm7cUrkSRJklpIM0H7yxHxLuDvgKcGOjPz/mJVSZIkSWNcM0H7kvr76kF9CVx+9suRJEmSWkMzdx35geEoRJIkSWolp7yPdkR0RMR7IuLe+uvdEdExHMVJkiRJY1UzD6z5MHAQeHX9dQD4y5JFSZIkSWNdM2O0l2TmjwxqvzMivlmoHkmSJKklNHNF+3BEXDbQqB9gc7hcSZIkSdLY18wV7f8PuLkelx3APuANJYuSJEmSxrpTXtHOzG9m5vOA7wW+JzMvzMxvnclOI+KXIuKBiFgXER+LiAkRsTgi7omITRHxiYgYXy97Tt3eVM9fdCb7liRJkobDSa9oR8RPZOZfR8QvP60fgMx8z+nsMCI6gV8AVmbm4Yj4JPAa4GXAH2fmxyPi/cCbgPfV3/dn5tKIeA3wh8CPn86+JUmSpOEy1BXtZ9Xfp5zga/IZ7nccMDEixgGTgMeoHoDz6Xr+zcC19fQr6zb1/CtiIO1LkiRJo9RJr2hn5l/Uk/+Umf86eF79gcjTkpldEfFHwDaqD1XeAdwHPJGZx+vFdgCd9XQnsL1e93hE9AAzgMefVtMNwA0A8+bNY+3atQDMmTOHiRMnsmXLFgCmTp3KggULWLduHQBtbW2sXLmSzZs3c+jQIQCWLl1KT08Pe/fuBWDu3Lm0t7ezdetWADo6Oujs7GT9+vUAtLe3s2LFCjZu3Mh1C/sAuKOrwdKpybOnJAD3dzc43g8Xz+wHYGtvsP6J4Kp5VfvJ48EdXQ2u7OznWeOqdW7f0WDltGTh5Kr9tb0NxjXgohnVOo8cDDYdCK7srNo9x4Iv7Wxw1bw+JrRVx+Wz2xpceF4yb1K1jbv3NJg4Dp53brXOwweC7b3BFXOr9r6ngjW7GlyzoI/2+s+ZW7Y2uGRWcv7Eaht37W4wfXzy3OlV+8GeYM/h4MVzqm3sPRLctbvBtQv7CKrHiN6ytY3LZvd/+7wsWbKEgwcPsmfPnmd8ngaO8Z07G8yfnCyfWtXxrX0NDh+HS2dVdew4FHzj8eDlC6r2kT64fUcbl8/tp6M9W/Y8DRzjxYsXc/jwYXbt2gXArFmzmDJlCps3bwZg8uTJLF68mHXr1pGZRASrVq1iy5Yt9Pb2ct3CPtbsajBrYvKcjqquB/YH+48Gl82u6njscHDPnuDahVX7WMJt29p48Zx+zj0nW/o8rV27loULF3Ls2DF27twJwMyZM+no6GDTpk0ATJo0iSVLlrB+/Xr6+qr37apVq9i2bRsHDhzguoV9Z/TvaeaEap1WPU9r165l/vz59Pf309XVBcCMGTOYMWMGDz/8MAATJkxg2bJlbNiwgWPHjgGwcuVKurq66OnpAeD8iTmiP/dG+3nat28fjUaD7du3AzB9+nRmz57Nhg0bABg/fjwXXHABDz30EEePHgVgxYoV7N69m/379wPQOSnH/O+nkuepu7u76Rxx5MgRAJYvX053dzfd3d3VMe7spHNSjunfT6XPU29v77DlvcHnaSiRmUMvEHF/Zl50qr5mRcR04DNUwz+eAD5FdaX6HZm5tF5mPnB7Zq6KiHXASzNzRz1vM3BJZj5+ou0DrF69Ou+9997TKe+MLbrxcyOy37Hi0ZuuPuNteIyHdjaOMXicT8X3cnm+l4eH7+XyfC8Pj7N1nJ+piLgvM1efaN5QY7RfCHwfMPNp47SnAm1nUM8PAlsyc2+9n78DXgRMi4hx9VXteUBXvXwXMB/YUQ816QC6z2D/kiRJUnFDjdEeTzUWexzfPT77APCjZ7DPbcClETGpHmt9BbAe+PKg7V4P/EM9fWvdpp7/pTzVZXhJkiRphA01RnsNsCYi/iozt56tHWbmPRHxaeB+4DjwDeADwOeAj0fE79Z9H6pX+RDw0YjYRHUP79ecrVokSZKkUpp5YM0HI+LHMvMJ+PYY649n5g+f7k4z8+3A25/W/Qhw8QmWPQL82OnuS5IkSRoJzTyC/byBkA2QmfuBWcUqkiRJklpAM0G7PyIWDDQiYiHVnVYkSZIknUQzQ0f+J3BXRKwBAviv1PerliRJknRipwzamfmFiLgIuLTu+sWh7mEtSZIkqbkr2gB9wB5gArAyIsjMfy5XliRJkjS2nTJoR8RPA2+leojMN6mubH8VuLxoZZIkSdIY1syHId8KvADYmpk/AFxI9eh0SZIkSSfRTNA+Ut/Lmog4JzM3ABeULUuSJEka25oZo70jIqYBtwBfjIj9wFl7UqQkSZLUipq568h19eQ7IuLLQAfwhaJVSZIkSWPcKYeORMSSiDhnoAksAiaVLEqSJEka65oZo/0ZoC8ilgIfAOYDf1u0KkmSJGmMa+oR7Jl5HLgO+NPM/FXg/LJlSZIkSWNbM0H7WES8FrgeuK3uay9XkiRJkjT2NRO03wi8EPi9zNwSEYuBj5YtS5IkSRrbmrnryHrgFwa1twB/WLIoSZIkaaxr5hHsLwLeASyslw8gM/PZZUuTJEmSxq5mHljzIeCXgPuAvrLlSJIkSa2hmaDdk5m3F69EkiRJaiHNBO0vR8S7gL8DnhrozMz7i1UlSZIkjXHNBO1L6u+rB/UlcPnZL0eSJElqDc3cdeQHhqMQSZIkqZU0c0WbiLgaeC4wYaAvM/9XqaIkSZKkse6UD6yJiPcDPw68herWfj9Gdas/SZIkSSfRzJMhvy8zfxLYn5nvpHpK5PKyZUmSJEljWzNB+0j9/VBEzAWOAeeXK0mSJEka+5oZo/3ZiJgGvAu4n+qOI/+vZFGSJEnSWDdk0I6IBnBnZj4BfCYibgMmZGbPcBQnSZIkjVVDDh3JzH7g/w5qP2XIliRJkk6tmTHad0bEj0REFK9GkiRJahEnDdoR8fv15M8AnwKeiogDEXEwIg4MS3WSJEnSGDXUFe2XAmTmlMxsZOb4zJxat6cOU32SJEnSmDTUhyHbImI61UNq/oPM3FemJEmSJGnsGyporwDu48RBO4FnF6lIkiRJagFDBe31mXnhsFUiSZIktZBm7joiSZIk6RkaKmi/d9iqkCRJklrMSYN2Zv7VMNYhSZIktRSHjkiSJEkFnDJoR8SLmumTJEmS9B3NXNH+0yb7JEmSJNVOenu/iHgh8H3AzIj45UGzpgJtpQuTJEmSxrKh7qM9HphcLzNlUP8B4EdLFiVJkiSNdScN2pm5BlgTEX+VmVuHsSZJkiRpzBvqivaAcyLiA8Ciwctn5uWlipIkSZLGumaC9qeA9wMfBPrKliNJkiS1hmaC9vHMfF/xSiRJkqQW0szt/T4bET8XEedHxLkDX8UrkyRJksawZq5oX19//9VBfQk8++yXI0mSJLWGUwbtzFw8HIVIkiRJraSZR7BPiojfrO88QkQsi4hrypcmSZIkjV3NjNH+S+Ao1VMiAbqA3y1WkSRJktQCmgnaSzLzfwPHADLzEBBFq5IkSZLGuGaC9tGImEj1AUgiYgnwVNGqJEmSpDGumbuOvB34AjA/Iv4GeBHwhpJFSZIkSWNdM3cd+WJE3A9cSjVk5K2Z+XjxyiRJkqQx7KRBOyIuelrXY/X3BRGxIDPvL1eWJEmSNLYNdUX73UPMS+Dys1yLJEmS1DJOGrQz8weGsxBJkiSplZxyjHZE/OSJ+jPzI2e/HEmSJKk1NHPXkRcMmp4AXAHcDxi0JUmSpJNo5q4jbxncjohpwMdLFSRJkiS1gmYeWPN0TwKLz3YhkiRJUitpZoz2Z6mfCkkVzFcCnyxZlCRJkjTWNTNG+48GTR8HtmbmjkL1SJIkSS2hmTHaa4ajEEmSJKmVDPVkyIN8Z8jIf5CZU4tUJEmSJLWAoR5YMwUgIn6H6vHrHwUCeB1w/rBUJ0mSJI1Rzdx15BWZ+eeZeTAzD2Tm+4BXli5MkiRJGsuaCdpPRsTrIqItIhoR8TqqW/xJkiRJOolmgvZ/A14N7K6/fqzukyRJknQSzdx15FEcKiJJkiQ9I808sOYvOcHdRzLzp4pUJEmSJLWAZh5Yc9ug6QnAdcDOMuVIkiRJraGZoSOfGdyOiI8BdxWrSJIkSWoBzXwY8umWAbPOdiGSJElSKzll0I6IgxFxYOA78FngbWey04iYFhGfjogNEfFgRLwwIs6NiC9GxMb6+/R62YiIP4mITRHx7xFx0ZnsW5IkSRoOpwzamTklM6cO+r786cNJTsN7gS9k5grgecCDwI3AnZm5DLizbgNcRXUVfRlwA/C+M9y3JEmSVFwzH4akvrq8jOrDkABk5j+fzg4jogP4fuAN9XaOAkcj4pXAS+rFbga+QnXl/JXARzIzgbvrq+HnZ+Zjp7N/SZIkaTg0c3u/nwbeCswDvglcCnwVuPw097kY2Av8ZUQ8D7iv3v7sQeF5FzC7nu4Etg9af0fd911BOyJuoLrizbx581i7di0Ac+bMYeLEiWzZsgWAqVOnsmDBAtatWwdAW1sbK1euZPPmzRw6dAiApUuX0tPTw969ewGYO3cu7e3tbN26FYCOjg46OztZv349AO3t7axYsYKNGzdy3cI+AO7oarB0avLsKdWdEe/vbnC8Hy6e2Q/A1t5g/RPBVfOq9pPHgzu6GlzZ2c+zxlXr3L6jwcppycLJVftrexuMa8BFM6p1HjkYbDoQXNlZtXuOBV/a2eCqeX1MaKuOy2e3NbjwvGTepGobd+9pMHEcPO/cap2HDwTbe4Mr5lbtfU8Fa3Y1uGZBH+1RbeOWrQ0umZWcP7Haxl27G0wfnzx3etV+sCfYczh48ZxqG3uPBHftbnDtwj6C6t6Qt2xt47LZ/d8+L0uWLOHgwYPs2bPnGZ+ngWN8584G8ycny6dWdXxrX4PDx+HSWVUdOw4F33g8ePmCqn2kD27f0cblc/vpaM+WPU8Dx3jx4sUcPnyYXbt2ATBr1iymTJnC5s2bAZg8eTKLFy9m3bp1ZCYRwapVq9iyZQu9vb1ct7CPNbsazJqYPKejquuB/cH+o8Fls6s6Hjsc3LMnuHZh1T6WcNu2Nl48p59zz8mWPk9r165l4cKFHDt2jJ07qxsxzZw5k46ODjZt2gTApEmTWLJkCevXr6evr3rfrlq1im3btnHgwAGuW9h3Rv+eZk6o1mnV87R27Vrmz59Pf38/XV1dAMyYMYMZM2bw8MMPAzBhwgSWLVvGhg0bOHbsGAArV66kq6uLnp4eAM6fmCP6c2+0n6d9+/bRaDTYvr36VTt9+nRmz57Nhg0bABg/fjwXXHABDz30EEePHgVgxYoV7N69m/379wPQOSnH/O+nkuepu7u76Rxx5MgRAJYvX053dzfd3d3VMe7spHNSjunfT6XPU29v77DlvcHnaShRXSgeYoGItcALgLsz8/kRsQL4/cx81ZArnnx7q4G7gRdl5j0R8V7gAPCWzJw2aLn9mTk9Im4DbsrMu+r+O4G3Zea9J9vH6tWr8957Tzq7qEU3fm5E9jtWPHrT1We8DY/x0M7GMQaP86n4Xi7P9/Lw8L1cnu/l4XG2jvMzFRH3ZebqE81r5q4jRzLzSL2hczJzA3DBGdSzA9iRmffU7U8DFwG7I+L8ej/nA3vq+V3A/EHrz6v7JEmSpFGrmaC9IyKmAbcAX4yIfwC2nu4OM3MXsD0iBsL6FcB64Fbg+rrveuAf6ulbgZ+s7z5yKdDj+GxJkiSNds08sOa6evIdEfFloAP4whnu9y3A30TEeOAR4I1Uof+TEfEmqiD/6nrZzwMvAzYBh+plJUmSpFFtyKAdEW3AA/Vt+MjMNWdjp5n5TeBEY1muOMGyCbz5bOxXkiRJGi5DDh3JzD7goYhYMEz1SJIkSS2hmftoTwceiIivAU8OdGbmK4pVJUmSJI1xJw3aETEuM48DvzWM9UiSJEktYagr2l8DLsrMNRHxp5n5luEqSpIkSRrrhhqjHYOmX1S6EEmSJKmVDBW0h35kpCRJkqSTGmroyIqI+HeqK9tL6mnqdmbm9xavTpIkSRqjhgrazxm2KiRJkqQWc9KgnZmn/Zh1SZIk6T+7IR9YI0mSJOn0GLQlSZKkAk4atCPizvr7Hw5fOZIkSVJrGOrDkOdHxPcBr4iIj/Pd99UmM+8vWpkkSZI0hg0VtH+b6vHr84D3PG1eApeXKkqSJEka64a668ingU9HxG9l5u8MY02SJEnSmDfUFW0AMvN3IuIVwPfXXV/JzNvKliVJkiSNbae860hE/AHwVmB9/fXWiPj90oVJkiRJY9kpr2gDVwPPz8x+gIi4GfgG8BslC5MkSZLGsmbvoz1t0HRHgTokSZKkltLMFe0/AL4REV+musXf9wM3Fq1KkiRJGuOa+TDkxyLiK8AL6q63ZeauolVJkiRJY1wzV7TJzMeAWwvXIkmSJLWMZsdoS5IkSXoGDNqSJElSAUMG7Yhoi4gNw1WMJEmS1CqGDNqZ2Qc8FBELhqkeSZIkqSU082HI6cADEfE14MmBzsx8RbGqJEmSpDGumaD9W8WrkCRJklpMM/fRXhMRC4FlmflPETEJaCtfmiRJkjR2nfKuIxHx34FPA39Rd3UCtxSsSZIkSRrzmrm935uBFwEHADJzIzCrZFGSJEnSWNdM0H4qM48ONCJiHJDlSpIkSZLGvmaC9pqI+A1gYkT8EPAp4LNly5IkSZLGtmaC9o3AXmAt8DPA54HfLFmUJEmSNNY1c9eR/oi4GbiHasjIQ5np0BFJkiRpCKcM2hFxNfB+YDMQwOKI+JnMvL10cZIkSdJY1cwDa94N/EBmbgKIiCXA5wCDtiRJknQSzYzRPjgQsmuPAAcL1SNJkiS1hJNe0Y6IV9WT90bE54FPUo3R/jHg68NQmyRJkjRmDTV05OWDpncDL66n9wITi1UkSZIktYCTBu3MfONwFiJJkiS1kmbuOrIYeAuwaPDymfmKcmVJkiRJY1szdx25BfgQ1dMg+4tWI0mSJLWIZoL2kcz8k+KVSJIkSS2kmaD93oh4O3AH8NRAZ2beX6wqSZIkaYxrJmh/D/B64HK+M3Qk67YkSZKkE2gmaP8Y8OzMPFq6GEmSJKlVNPNkyHXAtMJ1SJIkSS2lmSva04ANEfF1vnuMtrf3kyRJkk6imaD99uJVSJIkSS3mlEE7M9cMRyGSJElSK2nmyZAHqe4yAjAeaAeezMypJQuTJEmSxrJmrmhPGZiOiABeCVxasihJkiRprGvmriPflpVbgB8uU44kSZLUGpoZOvKqQc0GsBo4UqwiSZIkqQU0c9eRlw+aPg48SjV8RJIkSdJJNDNG+43DUYgkSZLUSk4atCPit4dYLzPzdwrUI0mSJLWEoa5oP3mCvmcBbwJmAAZtSZIk6SROGrQz890D0xExBXgr8Ebg48C7T7aeJEmSpFOM0Y6Ic4FfBl4H3AxclJn7h6MwSZIkaSwbaoz2u4BXAR8Avicze4etKkmSJGmMG+qBNb8CzAV+E9gZEQfqr4MRcWB4ypMkSZLGpqHGaD+jp0ZKkiRJ+g7DtCRJklSAQVuSJEkqwKAtSZIkFWDQliRJkgowaEuSJEkFGLQlSZKkAgzakiRJUgEGbUmSJKkAg7YkSZJUgEFbkiRJKsCgLUmSJBUwYkE7Itoi4hsRcVvdXhwR90TEpoj4RESMr/vPqdub6vmLRqpmSZIkqVkjeUX7rcCDg9p/CPxxZi4F9gNvqvvfBOyv+/+4Xk6SJEka1UYkaEfEPOBq4IN1O4DLgU/Xi9wMXFtPv7JuU8+/ol5ekiRJGrXGjdB+/w/wa8CUuj0DeCIzj9ftHUBnPd0JbAfIzOMR0VMv//jgDUbEDcANAPPmzWPt2rUAzJkzh4kTJ7JlyxYApk6dyoIFC1i3bh0AbW1trFy5ks2bN3Po0CEAli5dSk9PD3v37gVg7ty5tLe3s3XrVgA6Ojro7Oxk/fr1ALS3t7NixQo2btzIdQv7ALijq8HSqcmzpyQA93c3ON4PF8/sB2Brb7D+ieCqeVX7yePBHV0Nruzs51njqnVu39Fg5bRk4eSq/bW9DcY14KIZ1TqPHAw2HQiu7KzaPceCL+1scNW8Pia0Vcfls9saXHheMm9StY279zSYOA6ed261zsMHgu29wRVzq/a+p4I1uxpcs6CP9vrPmVu2NrhkVnL+xGobd+1uMH188tzpVfvBnmDP4eDFc6pt7D0S3LW7wbUL+wgggVu2tnHZ7P5vn5clS5Zw8OBB9uzZ84zP08AxvnNng/mTk+VTqzq+ta/B4eNw6ayqjh2Hgm88Hrx8QdU+0ge372jj8rn9dLRny56ngWO8ePFiDh8+zK5duwCYNWsWU6ZMYfPmzQBMnjyZxYsXs27dOjKTiGDVqlVs2bKF3t5erlvYx5pdDWZNTJ7TUdX1wP5g/9HgstlVHY8dDu7ZE1y7sGofS7htWxsvntPPuedkS5+ntWvXsnDhQo4dO8bOnTsBmDlzJh0dHWzatAmASZMmsWTJEtavX09fX/W+XbVqFdu2bePAgQNct7DvjP49zZxQrdOq52nt2rXMnz+f/v5+urq6AJgxYwYzZszg4YcfBmDChAksW7aMDRs2cOzYMQBWrlxJV1cXPT09AJw/MUf0595oP0/79u2j0Wiwfft2AKZPn87s2bPZsGEDAOPHj+eCCy7goYce4ujRowCsWLGC3bt3s3//fgA6J+WY//1U8jx1d3c3nSOOHDkCwPLly+nu7qa7u7s6xp2ddE7KMf37qfR56u3tHba8N/g8DSUyc8gFzraIuAZ4WWb+XES8BPgfwBuAu+vhIUTEfOD2zFwVEeuAl2bmjnreZuCSzHz8RNsHWL16dd57771lX8hJLLrxcyOy37Hi0ZuuPuNteIyHdjaOMXicT8X3cnm+l4eH7+XyfC8Pj7N1nJ+piLgvM1efaN5IXNF+EfCKiHgZMAGYCrwXmBYR4+qr2vOArnr5LmA+sCMixgEdQPfwly1JkiQ1b9jHaGfmr2fmvMxcBLwG+FJmvg74MvCj9WLXA/9QT99at6nnfymH+zK8JEmS9AyNpvtovw345YjYRDUG+0N1/4eAGXX/LwM3jlB9kiRJUtNG6sOQAGTmV4Cv1NOPABefYJkjwI8Na2GSJEnSGRpNV7QlSZKklmHQliRJkgowaEuSJEkFGLQlSZKkAgzakiRJUgEGbUmSJKkAg7YkSZJUgEFbkiRJKsCgLUmSJBVg0JYkSZIKMGhLkiRJBRi0JUmSpAIM2pIkSVIBBm1JkiSpAIO2JEmSVIBBW5IkSSrAoC1JkiQVYNCWJEmSCjBoS5IkSQUYtCVJkqQCDNqSJElSAQZtSZIkqQCDtiRJklSAQVuSJEkqwKAtSZIkFWDQliRJkgowaEuSJEkFGLQlSZKkAgzakiRJUgEGbUmSJKkAg7YkSZJUgEFbkiRJKsCgLUmSJBVg0JYkSZIKMGhLkiRJBRi0JUmSpAIM2pIkSVIBBm1JkiSpAIO2JEmSVIBBW5IkSSrAoC1JkiQVYNCWJEmSCjBoS5IkSQUYtCVJkqQCDNqSJElSAQZtSZIkqQCDtiRJklSAQVuSJEkqwKAtSZIkFWDQliRJkgowaEuSJEkFGLQlSZKkAgzakiRJUgEGbUmSJKkAg7YkSZJUgEFbkiRJKsCgLUmSJBVg0JYkSZIKMGhLkiRJBRi0JUmSpAIM2pIkSVIBBm1JkiSpAIO2JEmSVIBBW5IkSSrAoC1JkiQVYNCWJEmSCjBoS5IkSQUYtCVJkqQCDNqSJElSAQZtSZIkqQCDtiRJklSAQVuSJEkqwKAtSZIkFWDQliRJkgowaEuSJEkFDHvQjoj5EfHliFgfEQ9ExFvr/nMj4osRsbH+Pr3uj4j4k4jYFBH/HhEXDXfNkiRJ0jM1Ele0jwO/kpkrgUuBN0fESuBG4M7MXAbcWbcBrgKW1V83AO8b/pIlSZKkZ2bYg3ZmPpaZ99fTB4EHgU7glcDN9WI3A9fW068EPpKVu4FpEXH+8FYtSZIkPTPjRnLnEbEIuBC4B5idmY/Vs3YBs+vpTmD7oNV21H2PDeojIm6guuLNvHnzWLt2LQBz5sxh4sSJbNmyBYCpU6eyYMEC1q1bB0BbWxsrV65k8+bNHDp0CIClS5fS09PD3r17AZg7dy7t7e1s3boVgI6ODjo7O1m/fj0A7e3trFixgo0bN3Ldwj4A7uhqsHRq8uwpCcD93Q2O98PFM/sB2NobrH8iuGpe1X7yeHBHV4MrO/t51rhqndt3NFg5LVk4uWp/bW+DcQ24aEa1ziMHg00Hgis7q3bPseBLOxtcNa+PCW3VcfnstgYXnpfMm1Rt4+49DSaOg+edW63z8IFge29wxdyqve+pYM2uBtcs6KM9qm3csrXBJbOS8ydW27hrd4Pp45PnTq/aD/YEew4HL55TbWPvkeCu3Q2uXdhHAAncsrWNy2b3f/u8LFmyhIMHD7Jnz55nfJ4GjvGdOxvMn5wsn1rV8a19DQ4fh0tnVXXsOBR84/Hg5Quq9pE+uH1HG5fP7aejPVv2PA0c48WLF3P48GF27doFwKxZs5gyZQqbN28GYPLkySxevJh169aRmUQEq1atYsuWLfT29nLdwj7W7Gowa2LynI6qrgf2B/uPBpfNrup47HBwz57g2oVV+1jCbdvaePGcfs49J1v6PK1du5aFCxdy7Ngxdu7cCcDMmTPp6Ohg06ZNAEyaNIklS5awfv16+vqq9+2qVavYtm0bBw4c4LqFfWf072nmhGqdVj1Pa9euZf78+fT399PV1QXAjBkzmDFjBg8//DAAEyZMYNmyZWzYsIFjx44BsHLlSrq6uujp6QHg/Ik5oj/3Rvt52rdvH41Gg+3bq1+106dPZ/bs2WzYsAGA8ePHc8EFF/DQQw9x9OhRAFasWMHu3bvZv38/AJ2Tcsz/fip5nrq7u5vOEUeOHAFg+fLldHd3093dXR3jzk46J+WY/v1U+jz19vYOW94bfJ6GEpk55AKlRMRkYA3we5n5dxHxRGZOGzR/f2ZOj4jbgJsy8666/07gbZl578m2vXr16rz33pPOLmrRjZ8bkf2OFY/edPUZb8NjPLSzcYzB43wqvpfL8708PHwvl+d7eXicreP8TEXEfZm5+kTzRuSuIxHRDnwG+JvM/Lu6e/fAkJD6+566vwuYP2j1eXWfJEmSNGqNxF1HAvgQ8GBmvmfQrFuB6+vp64F/GNT/k/XdRy4FegYNMZEkSZJGpZEYo/0i4PXA2oj4Zt33G8BNwCcj4k3AVuDV9bzPAy8DNgGHgDcOa7WSJEnSaRj2oF2PtY6TzL7iBMsn8OaiRUmSJElnmU+GlCRJkgowaEuSJEkFGLQlSZKkAgzakiRJUgEGbUmSJKkAg7YkSZJUgEFbkiRJKsCgLUmSJBVg0JYkSZIKMGhLkiRJBRi0JUmSpAIM2pIkSVIBBm1JkiSpAIO2JEmSVIBBW5IkSSrAoC1JkiQVYNCWJEmSCjBoS5IkSQUYtCVJkqQCDNqSJElSAQZtSZIkqQCDtiRJklSAQVuSJEkqwKAtSZIkFWDQliRJkgowaEuSJEkFGLQlSZKkAgzakiRJUgEGbUmSJKkAg7YkSZJUgEFbkiRJKsCgLUmSJBVg0JYkSZIKMGhLkiRJBRi0JUmSpAIM2pIkSVIBBm1JkiSpAIO2JEmSVIBBW5IkSSrAoC1JkiQVYNCWJEmSCjBoS5IkSQUYtCVJkqQCDNqSJElSAQZtSZIkqQCDtiRJklSAQVuSJEkqwKAtSZIkFWDQliRJkgowaEuSJEkFGLQlSZKkAgzakiRJUgEGbUmSJKkAg7YkSZJUgEFbkiRJKsCgLUmSJBVg0JYkSZIKMGhLkiRJBRi0JUmSpAIM2pIkSVIBBm1JkiSpAIO2JEmSVIBBW5IkSSrAoC1JkiQVYNCWJEmSCjBoS5IkSQUYtCVJkqQCDNqSJElSAQZtSZIkqQCDtiRJklSAQVuSJEkqwKAtSZIkFWDQliRJkgowaEuSJEkFGLQlSZKkAgzakiRJUgFjJmhHxEsj4qGI2BQRN450PZIkSdJQxkTQjog24P8CVwErgddGxMqRrUqSJEk6uTERtIGLgU2Z+UhmHgU+DrxyhGuSJEmSTioyc6RrOKWI+FHgpZn503X79cAlmfnzg5a5Abihbl4APDTshY5O5wGPj3QRLc5jPDw8zuV5jIeHx7k8j/Hw8DhXFmbmzBPNGDfclZSSmR8APjDSdYw2EXFvZq4e6Tpamcd4eHicy/MYDw+Pc3ke4+HhcT61sTJ0pAuYP6g9r+6TJEmSRqWxErS/DiyLiMURMR54DXDrCNckSZIkndSYGDqSmccj4ueBfwTagA9n5gMjXNZY4XCa8jzGw8PjXJ7HeHh4nMvzGA8Pj/MpjIkPQ0qSJEljzVgZOiJJkiSNKQZtSZIkqQCDdouKiA9HxJ6IWDfStbSqiJgfEV+OiPUR8UBEvHWka2o1ETEhIr4WEd+qj/E7R7qmVhYRbRHxjYi4baRraUUR8WhErI2Ib0bEvSNdT6uKiGkR8emI2BARD0bEC0e6plYSERfU7+GBrwMR8YsjXddo5RjtFhUR3w/0Ah/JzFUjXU8riojzgfMz8/6ImALcB1ybmetHuLSWEREBPCszeyOiHbgLeGtm3j3CpbWkiPhlYDUwNTOvGel6Wk1EPAqszkwf8FFQRNwM/EtmfrC+U9mkzHxihMtqSRHRRnW75Usyc+tI1zMaeUW7RWXmPwP7RrqOVpaZj2Xm/fX0QeBBoHNkq2otWemtm+31l1cHCoiIecDVwAdHuhbpdEVEB/D9wIcAMvOoIbuoK4DNhuyTM2hLZ0FELAIuBO4Z4VJaTj2c4ZvAHuCLmekxLuP/AL8G9I9wHa0sgTsi4r6IuGGki2lRi4G9wF/Ww6A+GBHPGumiWthrgI+NdBGjmUFbOkMRMRn4DPCLmXlgpOtpNZnZl5nPp3oi7MUR4VCosywirgH2ZOZ9I11Li7ssMy8CrgLeXA/x09k1DrgIeF9mXgg8Cdw4siW1pnpYziuAT410LaOZQVs6A/W44c8Af5OZfzfS9bSy+r9/vwy8dIRLaUUvAl5RjyH+OHB5RPz1yJbUejKzq/6+B/h74OKRragl7QB2DPqfr09TBW+dfVcB92fm7pEuZDQzaEunqf6g3oeABzPzPSNdTyuKiJkRMa2engj8ELBhRItqQZn565k5LzMXUf1X8Jcy8ydGuKyWEhHPqj80TT2U4UrAu0KdZZm5C9geERfUXVcAfkC9jNfisJFTGhOPYNczFxEfA14CnBcRO4C3Z+aHRraqlvMi4PXA2noMMcBvZObnR66klnM+cHP9yfYG8MnM9NZzGotmA39f/X3OOOBvM/MLI1tSy3oL8Df10IZHgDeOcD0tp/5j8YeAnxnpWkY7b+8nSZIkFeDQEUmSJKkAg7YkSZJUgEFbkiRJKsCgLUmSJBVg0JYkSZIKMGhL0igTEX0R8c2IeCAivhURvxIRRX9eR8S76v29a1BfRMTjETG9bp8fERkRlw1aZm9EzDiN/fWencolafTyPtqSNPocrh87T0TMAv4WmAq8veA+bwDOzcy+gY7MzIi4G3gh8Hng+4Bv1N/vqh8K0p2Z3QXrkqQxyyvakjSK1Y/rvgH4+foK86KI+JeIuL/++j6AiPhIRFw7sF5E/E1EvHLwtur13xUR6yJibUT8eN1/KzAZuG+gb5B/owrW1N//mCp4D7T/td7Gr0bE1yPi3yPinYP2+RMR8bX6Cv1f1A8fGlzTeRHx1Yi4+kyOkySNRgZtSRrlMvMRoA2YBewBfigzLwJ+HPiTerEPAW8AiIgOqhD8uadt6lXA84HnAT8IvCsizs/MV1BfRc/MTzxtnX/lO0H7YuDvgfl1+/uAf4uIK4Fl9fznA/8lIr4/Ip5T1/ii+gp9H/C6gQ1HxOy6xt/OzKfXKkljnkNHJGlsaQf+LCKeTxVclwNk5pqI+POImAn8CPCZzDz+tHUvAz5WDw/ZHRFrgBcAtw6xv68DF9aPXG7PzN6IeCQillIF7XcDPw1cSTWsBKqr48uA7wX+C/D1+tHjE6n+UBh4HXcCb87MNad3KCRpdDNoS9IoFxHPpgrVe6jGae+muirdAI4MWvQjwE8ArwHeeDb2nZmHImIj8FPA/XX33cDLqK6wPwQE8AeZ+RdPq/stwM2Z+esn2PRx4D7ghwGDtqSW5NARSRrF6ivU7wf+LDMT6AAey8x+4PVUQ0oG/BXwiwCZuf4Em/sX4Mcjoq3e7vcDX2uijH+rt/vVuv1V4K3A3XVN/wj8VERMrmvurD/EeSfwo/U0EXFuRCyst5FU4X1FRLytiRokaczxirYkjT4TI+KbVMMrjgMfBd5Tz/tz4DMR8ZPAF4AnB1bKzN0R8SBwy0m2+/dUH2T8FlXQ/bXM3NVEPf9KFawHgvb9wDzgg/V+76jHY3+1HiLSC/xEZq6PiN8E7qhvT3gMeDOwtV6vLyJeC9waEQcz88+bqEWSxoyoLkZIksa6iJgErAUuysyeka5Hkv6zc+iIJLWAiPhB4EHgTw3ZkjQ6eEVbkiRJKsAr2pIkSVIBBm1JkiSpAIO2JEmSVIBBW5IkSSrAoC1JkiQV8P8Dkwh+4RV0lPAAAAAASUVORK5CYII=\n",
       "datasetInfos": [],
       "metadata": {},
       "removedWidgets": [],
       "type": "image"
      }
     },
     "output_type": "display_data"
    }
   ],
   "source": [
    "# Set figure size before plotting\n",
    "plt.figure(figsize=(12, 10))\n",
    "\n",
    "# Plot the bar chart\n",
    "plt.bar(data = df_fraud_by_day, x = 'day_of_week', height = 'fraud_count_by_day')\n",
    "# Show the plot\n",
    "plt.xlabel(\"Day of Week\")\n",
    "plt.ylabel(\"Number of Fraudulent Transactions\")\n",
    "plt.title(\"Fraudulent Transactions per Day\")\n",
    "plt.grid(axis=\"y\", linestyle=\"--\", alpha=0.7)\n",
    "plt.show()"
   ]
  },
  {
   "cell_type": "code",
   "execution_count": 0,
   "metadata": {
    "application/vnd.databricks.v1+cell": {
     "cellMetadata": {
      "byteLimit": 2048000,
      "rowLimit": 10000
     },
     "inputWidgets": {},
     "nuid": "9f87f637-9291-46ad-9862-dbc0c051f014",
     "showTitle": false,
     "tableResultSettingsMap": {},
     "title": ""
    }
   },
   "outputs": [
    {
     "output_type": "stream",
     "name": "stdout",
     "output_type": "stream",
     "text": [
      "+----+-------------------+\n|year|fraud_count_by_year|\n+----+-------------------+\n|2019|               5220|\n|2020|               2286|\n+----+-------------------+\n\n"
     ]
    },
    {
     "output_type": "display_data",
     "data": {
      "text/html": [
       "<div>\n",
       "<style scoped>\n",
       "    .dataframe tbody tr th:only-of-type {\n",
       "        vertical-align: middle;\n",
       "    }\n",
       "\n",
       "    .dataframe tbody tr th {\n",
       "        vertical-align: top;\n",
       "    }\n",
       "\n",
       "    .dataframe thead th {\n",
       "        text-align: right;\n",
       "    }\n",
       "</style>\n",
       "<table border=\"1\" class=\"dataframe\">\n",
       "  <thead>\n",
       "    <tr style=\"text-align: right;\">\n",
       "      <th></th>\n",
       "      <th>year</th>\n",
       "      <th>fraud_count_by_year</th>\n",
       "    </tr>\n",
       "  </thead>\n",
       "  <tbody>\n",
       "    <tr>\n",
       "      <th>0</th>\n",
       "      <td>2019</td>\n",
       "      <td>5220</td>\n",
       "    </tr>\n",
       "    <tr>\n",
       "      <th>1</th>\n",
       "      <td>2020</td>\n",
       "      <td>2286</td>\n",
       "    </tr>\n",
       "  </tbody>\n",
       "</table>\n",
       "</div>"
      ]
     },
     "metadata": {
      "application/vnd.databricks.v1+output": {
       "addedWidgets": {},
       "arguments": {},
       "data": "<div>\n<style scoped>\n    .dataframe tbody tr th:only-of-type {\n        vertical-align: middle;\n    }\n\n    .dataframe tbody tr th {\n        vertical-align: top;\n    }\n\n    .dataframe thead th {\n        text-align: right;\n    }\n</style>\n<table border=\"1\" class=\"dataframe\">\n  <thead>\n    <tr style=\"text-align: right;\">\n      <th></th>\n      <th>year</th>\n      <th>fraud_count_by_year</th>\n    </tr>\n  </thead>\n  <tbody>\n    <tr>\n      <th>0</th>\n      <td>2019</td>\n      <td>5220</td>\n    </tr>\n    <tr>\n      <th>1</th>\n      <td>2020</td>\n      <td>2286</td>\n    </tr>\n  </tbody>\n</table>\n</div>",
       "datasetInfos": [],
       "metadata": {},
       "removedWidgets": [],
       "textData": null,
       "type": "htmlSandbox"
      }
     },
     "output_type": "display_data"
    }
   ],
   "source": [
    "#analyze fraud by year\n",
    "df_fraud_year = df.filter(col(\"is_fraud\") == 1).groupBy(\"year\").agg(count(col(\"is_fraud\"))\\\n",
    "    .alias(\"fraud_count_by_year\"))\n",
    "df_fraud_year.sort(col(\"fraud_count_by_year\").desc()).show()\n",
    "#convert into pandas df\n",
    "df_fraud_year = df_fraud_year.toPandas()\n",
    "df_fraud_year.head()\n"
   ]
  },
  {
   "cell_type": "code",
   "execution_count": 0,
   "metadata": {
    "application/vnd.databricks.v1+cell": {
     "cellMetadata": {
      "byteLimit": 2048000,
      "rowLimit": 10000
     },
     "inputWidgets": {},
     "nuid": "f2e30721-21cc-49be-84af-b4ed18ec6c6a",
     "showTitle": false,
     "tableResultSettingsMap": {},
     "title": ""
    }
   },
   "outputs": [
    {
     "output_type": "display_data",
     "data": {
      "application/vnd.databricks.v1+bamboolib_hint": "{\"pd.DataFrames\": [\"df_fraud_hour\", \"df_fraud_month\", \"df_fraud_by_day\", \"df_fraud_year\"], \"version\": \"0.0.1\"}",
      "text/plain": []
     },
     "metadata": {},
     "output_type": "display_data"
    },
    {
     "output_type": "display_data",
     "data": {
      "image/png": "[encoded data removed]"
     },
     "metadata": {
      "application/vnd.databricks.v1+output": {
       "addedWidgets": {},
       "arguments": {},
       "data": "data:image/png;base64,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\n",
       "datasetInfos": [],
       "metadata": {},
       "removedWidgets": [],
       "type": "image"
      }
     },
     "output_type": "display_data"
    }
   ],
   "source": [
    "#plot fraud by \n",
    "import pandas as pd\n",
    "import datetime\n",
    "# Set figure size before plotting\n",
    "plt.figure(figsize=(12, 10))\n",
    "\n",
    "# Plot the bar chart\n",
    "plt.bar(data = df_fraud_year, x = 'year', height = 'fraud_count_by_year')\n",
    "# Show the plot\n",
    "plt.xlabel(\"Year\")\n",
    "plt.ylabel(\"Number of Fraudulent Transactions\")\n",
    "plt.title(\"Fraudulent Transactions per Year\")\n",
    "plt.show()"
   ]
  },
  {
   "cell_type": "code",
   "execution_count": 0,
   "metadata": {
    "application/vnd.databricks.v1+cell": {
     "cellMetadata": {
      "byteLimit": 2048000,
      "rowLimit": 10000
     },
     "inputWidgets": {},
     "nuid": "ce78f680-1c74-4817-b639-c93354b75eb4",
     "showTitle": false,
     "tableResultSettingsMap": {},
     "title": ""
    }
   },
   "outputs": [
    {
     "output_type": "stream",
     "name": "stdout",
     "output_type": "stream",
     "text": [
      "+------+---------------+\n|gender|count(is_fraud)|\n+------+---------------+\n|     F|           3735|\n|     M|           3771|\n+------+---------------+\n\n"
     ]
    }
   ],
   "source": [
    "#fraud analysis by gender\n",
    "df.filter(col(\"is_fraud\")==1).groupBy('gender').agg(count(col(\"is_fraud\")))\\\n",
    "    .alias('fraud count by gender').show()"
   ]
  },
  {
   "cell_type": "code",
   "execution_count": 0,
   "metadata": {
    "application/vnd.databricks.v1+cell": {
     "cellMetadata": {
      "byteLimit": 2048000,
      "rowLimit": 10000
     },
     "inputWidgets": {},
     "nuid": "e434b6d2-fbfb-4426-beb8-48e1b988262d",
     "showTitle": false,
     "tableResultSettingsMap": {},
     "title": ""
    }
   },
   "outputs": [
    {
     "output_type": "stream",
     "name": "stdout",
     "output_type": "stream",
     "text": [
      "+-------+-----------------+--------------------+-------------------+-------------+-----------------+-------+-------+-------+--------------------+-------+-------+------------------+-----------------+------------------+------------------+------------------+--------------------+--------------------+-----------------+------------------+--------------------+-----------------+------------------+------------------+------------------+------------------+\n|summary|       Unnamed: 0|              cc_num|           merchant|     category|              amt|  first|   last| gender|              street|   city|  state|               zip|              lat|              long|          city_pop|               job|           trans_num|           unix_time|        merch_lat|        merch_long|            is_fraud|    merch_zipcode|       day_of_week|             month|              year|              hour|\n+-------+-----------------+--------------------+-------------------+-------------+-----------------+-------+-------+-------+--------------------+-------+-------+------------------+-----------------+------------------+------------------+------------------+--------------------+--------------------+-----------------+------------------+--------------------+-----------------+------------------+------------------+------------------+------------------+\n|  count|          1296675|             1296675|            1296675|      1296675|          1296675|1296675|1296675|1296675|             1296675|1296675|1296675|           1296675|          1296675|           1296675|           1296675|           1296675|             1296675|             1296675|          1296675|           1296675|             1296675|          1100702|           1296675|           1296675|           1296675|           1296675|\n|   mean|         648337.0|4.171920420796842...|               null|         null|70.35103545606984|   null|   null|   null|                null|   null|   null| 48800.67109722945|38.53762161490515|-90.22633537865394| 88824.44056297839|              null|            Infinity|1.3492436367261226E9|38.53733804469929| -90.2264647989718|0.005788651743883394|46825.75415053302|3.7178722501783406| 6.142149729114851|2019.2867526558312|12.804857809397111|\n| stddev|374317.9744882685|1.308806447000240...|               null|         null|160.3160385715272|   null|   null|   null|                null|   null|   null|26893.222476485953|5.075808438803939| 13.75907694648633|301956.36068875133|              null|                 NaN|1.2841278423356792E7|5.109788369679178|13.771090564792397| 0.07586268973125164|25834.00115959982|2.1320739087273526|3.4177033080259633|0.4522452077530578|6.8178238991871725|\n|    min|                0|         60416207185|fraud_Abbott-Rogahn|entertainment|              1.0|  Aaron| Abbott|      F|  000 Jennifer Mills|Achille|     AK|              1257|          20.0271|         -165.6723|                23|Academic librarian|00000ecad06b03d3a...|          1325376018|        19.027785|       -166.671242|                   0|             1001|                 1|                 1|              2019|                 0|\n|    max|          1296674| 4992346398065154184|   fraud_Zulauf LLC|       travel|          28948.9|Zachary| Zuniga|      M|99736 Rose Shoals...|Zavalla|     WY|             99783|          66.6933|          -67.9503|           2906700|            Writer|ffffef9d89e7d02d8...|          1371816817|        67.510267|        -66.950902|                   1|            99403|                 7|                12|              2020|                23|\n+-------+-----------------+--------------------+-------------------+-------------+-----------------+-------+-------+-------+--------------------+-------+-------+------------------+-----------------+------------------+------------------+------------------+--------------------+--------------------+-----------------+------------------+--------------------+-----------------+------------------+------------------+------------------+------------------+\n\n"
     ]
    }
   ],
   "source": [
    "# Get summary statistics for all columns in the DataFrame\n",
    "df.describe().show()\n"
   ]
  },
  {
   "cell_type": "code",
   "execution_count": 0,
   "metadata": {
    "application/vnd.databricks.v1+cell": {
     "cellMetadata": {
      "byteLimit": 2048000,
      "rowLimit": 10000
     },
     "inputWidgets": {},
     "nuid": "b1da0a26-bc72-4604-b0ad-2810c0ac7bbe",
     "showTitle": false,
     "tableResultSettingsMap": {},
     "title": ""
    }
   },
   "outputs": [
    {
     "output_type": "stream",
     "name": "stdout",
     "output_type": "stream",
     "text": [
      "25th Percentile: 9.42\n75th Percentile: 82.45\n"
     ]
    }
   ],
   "source": [
    "percentiles = df.approxQuantile(\"amt\", [0.25, 0.75], 0.01)\n",
    "\n",
    "# Display the results\n",
    "print(f\"25th Percentile: {percentiles[0]}\")\n",
    "print(f\"75th Percentile: {percentiles[1]}\")"
   ]
  },
  {
   "cell_type": "code",
   "execution_count": 0,
   "metadata": {
    "application/vnd.databricks.v1+cell": {
     "cellMetadata": {
      "byteLimit": 2048000,
      "rowLimit": 10000
     },
     "inputWidgets": {},
     "nuid": "5080152f-0084-438a-9aa0-c36c3ee6d43f",
     "showTitle": false,
     "tableResultSettingsMap": {},
     "title": ""
    }
   },
   "outputs": [
    {
     "output_type": "stream",
     "name": "stdout",
     "output_type": "stream",
     "text": [
      "+-----------------+-----------------+-------+-------+\n|         mean_amt|       stddev_amt|min_amt|max_amt|\n+-----------------+-----------------+-------+-------+\n|70.35103545606984|160.3160385715272|    1.0|28948.9|\n+-----------------+-----------------+-------+-------+\n\n+--------+-----------------+-----------------+------------------+-------+-------+\n|is_fraud|transaction_count|          avg_amt|           std_amt|min_amt|max_amt|\n+--------+-----------------+-----------------+------------------+-------+-------+\n|       0|          1289169|67.66710981259997| 154.0079705460996|    1.0|28948.9|\n|       1|             7506|531.3200919264589|390.56006972553587|   1.06|1376.04|\n+--------+-----------------+-----------------+------------------+-------+-------+\n\n"
     ]
    }
   ],
   "source": [
    "# Basic statistics for amt\n",
    "df.select(\n",
    "    mean(\"amt\").alias(\"mean_amt\"),\n",
    "    stddev(\"amt\").alias(\"stddev_amt\"),\n",
    "    min(\"amt\").alias(\"min_amt\"),\n",
    "    max(\"amt\").alias(\"max_amt\")\n",
    ").show()\n",
    "\n",
    "# Count of fraud and non-fraud transactions\n",
    "df.groupBy(\"is_fraud\").agg(\n",
    "    count(\"*\").alias(\"transaction_count\"),\n",
    "    mean(\"amt\").alias(\"avg_amt\"),\n",
    "    stddev(\"amt\").alias(\"std_amt\"),\n",
    "    min(\"amt\").alias(\"min_amt\"),\n",
    "    max(\"amt\").alias(\"max_amt\")\n",
    ").orderBy(\"is_fraud\").show()"
   ]
  },
  {
   "cell_type": "code",
   "execution_count": 0,
   "metadata": {
    "application/vnd.databricks.v1+cell": {
     "cellMetadata": {
      "byteLimit": 2048000,
      "rowLimit": 10000
     },
     "inputWidgets": {},
     "nuid": "123b3312-8b83-432e-b7fb-a7a2349c3e33",
     "showTitle": false,
     "tableResultSettingsMap": {},
     "title": ""
    }
   },
   "outputs": [
    {
     "output_type": "display_data",
     "data": {
      "image/png": "[encoded data removed]"
     },
     "metadata": {
      "application/vnd.databricks.v1+output": {
       "addedWidgets": {},
       "arguments": {},
       "data": "data:image/png;base64,iVBORw0KGgoAAAANSUhEUgAAAYUAAAEaCAYAAAD+E0veAAAAOXRFWHRTb2Z0d2FyZQBNYXRwbG90bGliIHZlcnNpb24zLjUuMSwgaHR0cHM6Ly9tYXRwbG90bGliLm9yZy/YYfK9AAAACXBIWXMAAAsTAAALEwEAmpwYAAAoOUlEQVR4nO3de5gcZZn38e+dEwMJEBKSEDKT04YNBFgiDgcVEYkCyUpgkUUUOQZ4fRfc9YVFAXcR3V2NIgoIi4sCCchBDEcREBRCBDklMeBLYmQYEjJDjkMSiJiETO79o57p1DTd090zXd3T3b/Pdc01XVVPVT1d3V131XMqc3dEREQA+pQ7AyIi0nsoKIiISIqCgoiIpCgoiIhIioKCiIikKCiIiEiKgkKVM7NNZja+3PmodGZ2uZn9tIjbS30uZjbLzP6ziNv+sZn9e7G2F9vulWb2s2Jvt5SKfayrkYJCmvBj7fjbbmZ/jU2fVu78dcXM5prZufF57j7I3ZsT3ud6M9spqX30hJmdZWbP5Egz18w2m9m7ZvaOmS0ws0vj78ndv+3u53a1ndi2cqYr1ueS6f25+5fc/T96uu0kmdmytN/WJjPbu8x5GmBmV5tZS8jPMjO7JrZ8mZl9qoDtVWQAUlBIE36sg9x9EPAmcHxs3h0d6cysX/ly2TuY2Vjg44AD08ubmx670N13BUYCFwOnAo+YmRVzJ/redBL/bQ1y97fiC8twrC4DGoFDgV2Bo4CFJc5D+bm7/rL8AcuAT4XXRwEtwNeAVcDtwB7Aw8BaYH14XR9bfy7wH8CzwLvA48CeYVkd8DOgDdgAvASMCMvOBpaEdZqB/5OWrxOARcA7wOvAccB/Ae3AZmATcH1I68CE8Hp34LaQ3+XAvwF9wrKzgGeA74f38gYwNcfxuSK8tx8AD6ctmwX8N/BoyM+zwF7ANWH7fwI+FEu/XzheG4BXgelpx/Hc2PRZwDOxaQe+BLwW1r8BsLDNzeG4bAI2ZHkfnbYf5o0G3gM+E6avBH7W1WeX4zO4IOTvjQyfyyzgx8AT4TN/GhgTlo0Naful5zfb+wvb+89Y+vOAJuBt4CFg71zHLstxuhKYA/w85HMhcFBYdglwb1r664Brc/220uZnOlbXAiuIvu8LgI+nfc/i7/UooCU2/aGQz3dDvu+Op0/b98PAV7Isux3YDvw1HOuvhvm/IDofbATmAfuH+ecD7wNbQ/pfpn/u6fkH9gx52BA+q98Rfp+l/NOdQmH2AoYAY4g+9D7ArWF6NNEX5vq0db5AdJIfDgwA/jXMP5PoJN0ADCX6Yf41LFsDfAbYLaz7QzM7GMDMDiU6sV8CDAaOBJa5+9eJvkQXenTVdWGG/P8o7HM88AngjLD9DocBS4m+nN8Dbs5xpXwGcEf4O9bMRqQtP4Uo8OwJbAGeI/qB7kl0cvlBeE/9gV8SBc3hwJeBO8xsYhf7TvcZ4BDg78J+j3X3JUTH9blwTAbnuzF3fxOYT3QnlC7jZ5fjMziR6PhOyrLL04guIPYkCvh3ZEkXz2PO92dmRwPfITomI4kuBu5OS/aBY9fFbk8gOhEOAe4EHgif38+A48xscNhvP6K7rdtyvY8MTqTzsXoJmBzb5y/MrC7XRsxsAPAA0Ql9SMj3Z7tY5XngIjP7JzM7MP7dd/fT6Vxy8L2w6FFgH6Lv7ULC5+buN4XX3wvpj8/9trmY6MJzGNFFxuVEQaSkFBQKsx34hrtvcfe/unubu9/r7u+5+7tEV4qfSFvnVnf/s7v/FbiH6MsN0VXEUKKrhnZ3X+Du7wC4+6/c/XWPPE10suw4Oc0AbnH3J9x9u7u3uvufcmXczPoS/Ugvc/d33X0ZcDVweizZcnf/ibu3A7OJTiLpJ/qO7R1BFAzvcfcFRHcsX0hLdn94X5uB+4HN7n5b2P7Pia7iAA4HBgEz3X2ruz9JdMX0+VzvK2amu28IJ/On2HGce+ItopNJuqyfXRe+4+5vh+9BJr9y93nuvgX4OvARM2voftZTTiP6viwM274sbHtsLE0hx26Bu89x9/eJgnodcLi7ryS6Uv7HkO44YF34bmTzgJltCH8PxOZ3Olbu/rPwW9vm7lcDOwH5XDAcDvQHrnH39919DlGAyeY7wHeJjtl8oNXMzuxqB+5+S/g9bSG6kzrIzHbPI2+ZvE/0mxsT8vs7D7cQpaSgUJi14QQHgJntYmb/Y2bLzewdoh/F4HAC7rAq9vo9opMfRFcvvwbuNrO3zOx74YoLM5tqZs+b2dtmtgGYRnQFCdHV6evdyPueRD+Q5bF5y4FRmfLq7u+Fl4PI7EzgcXdfF6bvDPPiVsde/zXDdMe29wZWuPv2LvKWS7bj3BOjiG7j02X97LqwIt/l7r4p7LcYFa97E/vMw7bbyPK5k/vYxfO5nejKtiOfs4EvhtdfJDpOXTnR3QeHvxMz7QPAzP7VzJaY2cbwe9idHb+HruwNtKadWJdnSxwC/A3u/jGiu/D/Am4xs/0ypTezvmY208xeD7//ZWFRPnnL5CqiYr7HzazZzC7t5nZ6REGhMOlR+2KiK5bD3H03oqIciMqzu95QdCXwTXefBHyU6Bb+jNDi5V6isv0RoUjgkdg2VwB/k2f+4tYRXYmMic0bDbTmyms6M9uZqJjhE2a2ysxWAf+P6CrpoEK3R3RF3mBm8e9jPG9/AXaJLdurgG1360orXKV/mKg4qPMGs3x2OfaXKx+puwIzG0R0h/IW0XuH7O8/13bfIvaZm9lAorucgj/3DPnsA9SHfUBUVPN3ZnYA0THJWQSWReo9mdnHga8Sfd/2CL+Hjez4PXT13VgJjEorAh2dVwaikoAbiOq/Ooqx0o/1F4iK0z5FFKjGdmQ7S3qIgm7G/IY7jovdfTxRw42LzGxKPvktJgWFntmV6Ip3g5kNAb6R74pm9slQbtmXqALtfaLiqQFEt8drgW1mNhU4JrbqzcDZZjbFzPqY2Sgz2zcsW01UX/ABocjmHuC/zGxXMxsDXERUFlyoE4kqNycRFTVMJqr0/B07To6FeIHox/JVM+tvZkcBx7Oj7HsRcFK4M5tAVISWr9VAfShfzins4xPAg8CLRAE5PU22z65jf93pFzLNzI4I+fwP4Hl3X+Hua4lO4F8MV6bn0PmiINf7u4vo+zI5XHB8G3ghFB92x4fN7KRQZ/AVorqi5wHCXfQcorvGF0NxVE/tCmwj+j30M7MriOraOiwiOnZDzGyvkKcOz4V1/zl8r04ialmUkZl9xcyOMrOdzaxfKDraFfhDSJL+2e5K9P7biE70307bZKbvwiLgC+GzPI5YcbOZfcbMJoQgtpHoN7adElNQ6JlrgJ2JrsKfBx4rYN29iH5A7xC1NHoauD3UTfwz0Ql8PdHVyEMdK7n7i4TKZ6IvztPsuBK8FjjZon4D12XY55eJrqyaiVoa3QncUkCeO5xJVFfypruv6vgjqmQ/rdCmhO6+lSgITCU6lv8NnBGrK/khUSuO1URFFIVcgT5J1JpplZmt6yLd9Wb2btjHNUR3a8elFWl1yPjZhWW5PoNs7iS6qHib6A7li7Fl5xE1LGgD9gd+n+/7c/ffAP8e3s9KooByagH5Svcg8Dmi7+bpwEmhfqHDbOBAchcd5evXRL+rPxMV/Wymc/HS7cDLREU3jxPVVQGp79VJRK3V3g75vq+Lfb1HVM+2iuh7eAHwWd/Rn+Q7wL+FOpB/JapEX04UtBcTgmPMzcCktDqTfyH6rm8gqrt4IJZ+H+A3RK2VngP+292f6iK/ibAy1GOISJUys9FEzY33yqPyXXoh3SmISFGEOoaLgLsVECqXeleKSI+FCuzVRMUpx5U5O9IDKj4SEZEUFR+JiEiKgoKIiKQkWqcQxkH5KXAAUUeOc4jG1vk5UUePZcAp7r4+tM29lqj37nvAWe7e5QiFe+65p48dOzah3IuIVKcFCxasc/dhmZYlXdF8LfCYu58cOtfsQjTI02/dfWboxn0p0cijU4na6e5DNBjWjeF/VmPHjmX+/PlJ5l9EpOqYWdbhPhIrPgqDQh1J1IGDMNDZBqJu4bNDstlEvWMJ828Lg8A9TzSG0Mik8iciIh+UZJ3COKKu6bea2R/M7Keh2dqIMKIiRD0HO0bhHEXnnootZBgQzczON7P5ZjZ/7dq1CWZfRKT2JBkU+gEHAze6+4eIhlfoNOpfGL2woDax7n6Tuze6e+OwYRmLxEREpJuSrFNoIXoC0gtheg5RUFhtZiPdfWUoHloTlrcSG4GRaPTF7o7kKCJSFO+//z4tLS1s3rw5d+Jepq6ujvr6evr3zzWy+w6JBQV3X2VmK8xsorsvBaYQDRq1mGhAtZnh/4NhlYeAC83sbqIK5o2xYiYRkbJoaWlh1113ZezYsVhxH9mdKHenra2NlpYWxo0bl/d6Sbc+6nis4gCikTnPJiqyusfMZhB1iT8lpH2EqDlqE1GT1LM/uDkRkdLavHlzxQUEADNj6NChFFr3mmhQcPdFQGOGRR94cESoX7ggyfyIiHRHpQWEDt3JtwbEE+kF2tvbaWpqSk1PmDCBvn37drGGSDI0zIVIL9DU1MTVc+Yx69k3uHrOvE4BQnqfj370owWv84tf/IL99tuPT37yk0XPz7JlyzjggAOKsi3dKYj0EkNHNjC8oTtP8pRS+/3vf587UZqbb76Zn/zkJxxxxBGd5m/bto1+/XrPqVh3CiIiBRo0aBAAK1eu5Mgjj2Ty5MkccMAB/O53v8uY/lvf+hbPPPMMM2bM4JJLLmHWrFlMnz6do48+milTprBp0yamTJnCwQcfzIEHHsiDD0aNMtPvAL7//e9z5ZVXArBgwQIOOuggDjroIG644YaivTcFBRGRbrrzzjs59thjWbRoES+//DKTJ0/OmO6KK66gsbGRO+64g6uuugqAhQsXMmfOHJ5++mnq6uq4//77WbhwIU899RQXX3wxuZ51c/bZZ/OjH/2Il19+uajvqffcs4iIVJhDDjmEc845h/fff58TTzwxa1DI5NOf/jRDhgwBoj4Fl19+OfPmzaNPnz60trayevXqrOtu2LCBDRs2cOSRRwJw+umn8+ijj/bovXTQnYKISDcdeeSRzJs3j1GjRnHWWWdx22235b3uwIEDU6/vuOMO1q5dy4IFC1i0aBEjRoxg8+bN9OvXj+3bt6fSlaJXtYKCiEg3LV++nBEjRnDeeedx7rnnsnBhl4+AyWrjxo0MHz6c/v3789RTT7F8eTSy9YgRI1izZg1tbW1s2bKFhx9+GIDBgwczePBgnnnmGSAKKsWi4iMRkW6aO3cuV111Ff3792fQoEEF3SnEnXbaaRx//PEceOCBNDY2su+++wLQv39/rrjiCg499FBGjRqVmg9w6623cs4552BmHHPMMUV5PwCWqzKjN2tsbHQ9ZEeqwdKlS5n17BsMbxjPmhXNnPWxcUycOLHc2RJgyZIl7LfffuXORrdlyr+ZLXD3TKNNqPhIRER2UPGRiEgRHXbYYWzZsqXTvNtvv50DDzywTDkqjIKCiEgRvfDCC7kT9WIqPhIRkRQFBRERSVFQEBGRFAUFEZFuahg9BjMr2l/D6DE59/nYY48xceJEJkyYwMyZM4v+nlTRLCLSTS0r3uQHjy8t2vYuOqbrvint7e1ccMEFPPHEE9TX13PIIYcwffp0Jk2aVLQ86E5BRKRCvPjii0yYMIHx48czYMAATj311NQw28WioCAiUiFaW1tpaGhITdfX19Pa2lrUfSgoiIhIioKCiEiFGDVqFCtWrEhNt7S0MGrUqKLuQ0FBRKRCHHLIIbz22mu88cYbbN26lbvvvpvp06cXdR9qfSQi0k31DaNzthgqdHtd6devH9dffz3HHnss7e3tnHPOOey///5F2z8oKIiUTXt7O01NTQA0NzdTwaPY16wVby4v+T6nTZvGtGnTEtu+goJImTQ1NXH1nHkMHdnA66/MZ+joCYwod6ak5iVap2Bmy8zsj2a2yMzmh3lDzOwJM3st/N8jzDczu87MmszsFTM7OMm8ifQGQ0c2MLxhPIOHjyx3VkSA0lQ0f9LdJ8ee8nMp8Ft33wf4bZgGmArsE/7OB24sQd5ERCSmHK2PTgBmh9ezgRNj82/zyPPAYDPT5ZOISAklHRQceNzMFpjZ+WHeCHdfGV6vglQx6ihgRWzdljBPRERKJOmK5iPcvdXMhgNPmNmf4gvd3c2soDYXIbicDzB6dNfNt0REpDCJ3im4e2v4vwa4HzgUWN1RLBT+rwnJW4GG2Or1YV76Nm9y90Z3bxw2bFiS2RcR6dLY0fVFHTp77Oj6nPs855xzGD58OAcccEAi7ymxOwUzGwj0cfd3w+tjgG8BDwFnAjPD/44h/h4CLjSzu4HDgI2xYiYRkV5n+YpW/MlvF217dvTlOdOcddZZXHjhhZxxxhlF229cksVHI4D7zaxjP3e6+2Nm9hJwj5nNAJYDp4T0jwDTgCbgPeDsBPMmIlKRjjzySJYtW5bY9hMLCu7eDByUYX4bMCXDfAcuSCo/IiKSmwbEExGRFAUFERFJUVAQEZEUDYgnItJNYxpG5dViqJDt5fL5z3+euXPnsm7dOurr6/nmN7/JjBkzipYHBQURkW5a9mZLyfd51113Jbp9BQWRhMWfmwAwYcIE+vbtW8YciWSnoCCSsPhzE9pWruDik2HixOI9rUukmBQUREqg47kJUpncndARt6J4Nx7np6AgUkLbt7fT3NwMZH8EZzwNqLip3Orq6mhra2Po0KEVFRjcnba2Nurq6gpaT0FBpITWr1nJ7KaNjFtpWR/BGU+j4qbyq6+vp6WlhbVr15Y7KwWrq6ujvj73IHtxCgoiJbbH8L0Z3jCetlXZW650pJHy69+/P+PGjSt3NkpGnddERCRFQUFERFIUFEREJEV1CiJFlt5ZLVsrI5HeSEFBpMjindWArK2MRHojBQWRBMQ7q3XVykikt1GdgoiIpCgoiIhIioKCiIikKCiIiEiKgoKIiKQoKIiISIqCgoiIpCgoiIhIioKCiIikKCiIiEhK4kHBzPqa2R/M7OEwPc7MXjCzJjP7uZkNCPN3CtNNYfnYpPMmIiKdleJO4V+AJbHp7wI/dPcJwHpgRpg/A1gf5v8wpBMRkRJKNCiYWT3w98BPw7QBRwNzQpLZwInh9QlhmrB8ilXSU7JFRKpA0ncK1wBfBbaH6aHABnffFqZbgFHh9ShgBUBYvjGk78TMzjez+WY2vxIfpC0i0pslFhTM7DPAGndfUMztuvtN7t7o7o3Dhg0r5qZFRGpeks9T+Bgw3cymAXXAbsC1wGAz6xfuBuqB1pC+FWgAWsysH7A70JZg/kREJE1idwrufpm717v7WOBU4El3Pw14Cjg5JDsTeDC8fihME5Y/6a6HGIqIlFI5+il8DbjIzJqI6gxuDvNvBoaG+RcBl5YhbyIiNa0kj+N097nA3PC6GTg0Q5rNwD+WIj8iIpKZejSLiEhKSe4URKpde3s7TU1NADQ3N6PaMKlUCgoiRdDU1MTVc+YxdGQDr78yn6GjJzCi3JkS6QYFBZEiGTqygeEN42lb1VK0bW7f3k5zc3NqesKECfTt27do2xdJp6Ag0outX7OS2U0bGbfSaFu5gotPhokTJ5Y7W1LFFBREerk9hu/N8Ibx5c6G1AgFBZFuUuWyVCMFBZFuUuWyVCP1UxDpgY7K5cHDR5Y7KyJFoTsFkQqhlkhSCgoKIhVCLZGkFBQURCqIWiJJ0hQURCqQipIkKQoKIhVIRUmSFAUFkQqloiRJgpqkiohISl5Bwcw+ls88ERGpbPneKfwoz3kiIlLBuqxTMLOPAB8FhpnZRbFFuwFq6iAiUmVyVTQPAAaFdLvG5r8DnJxUpkREpDy6DAru/jTwtJnNcvflJcqTiIiUSb5NUncys5uAsfF13P3oJDIlIiLlkW9Q+AXwY+CnQHty2RERkXLKNyhsc/cbE82JiIiUXb5NUn9pZv9kZiPNbEjHX6I5ExGRksv3TuHM8P+S2DwH1MdeRKSK5BUU3H1c0hkREZHyyysomNkZmea7+21drFMHzAN2CvuZ4+7fMLNxwN3AUGABcLq7bzWznYDbgA8DbcDn3H1ZAe9FRER6KN86hUNifx8HrgSm51hnC3C0ux8ETAaOM7PDge8CP3T3CcB6YEZIPwNYH+b/MKQTEZESyrf46MvxaTMbTHS139U6DmwKk/3DnwNHA18I82cTBZgbgRPCa4A5wPVmZmE7IiJSAt0dOvsvQM56BjPra2aLgDXAE8DrwAZ33xaStACjwutRwAqAsHwjURFT+jbPN7P5ZjZ/7dq13cy+iIhkkm+dwi+JrvIhGghvP+CeXOu5ezswOdxZ3A/s271sdtrmTcBNAI2NjbqLEBEponybpH4/9nobsNzdW/LdibtvMLOngI8Ag82sX7gbqAdaQ7JWoAFoMbN+wO5EFc4i0gU9r1mKKa/iozAw3p+IRkrdA9iaax0zGxbuEDCznYFPA0uAp9gxwuqZwIPh9UPs6A9xMvCk6hNEclu/ZiWzn17MrGff4Oo582hqaip3lqSC5Vt8dApwFTAXMOBHZnaJu8/pYrWRwGwz60sUfO5x94fNbDFwt5n9J/AH4OaQ/mbgdjNrAt4GTu3OGxJJUnt7e+qk29zcTG+5bNHzmqVY8i0++jpwiLuvgeguAPgNUSuhjNz9FeBDGeY3A4dmmL8Z+Mc88yNSFk1NTVw9Zx5DRzbw+ivzGTp6AiPKnSmRIsq39VGfjoAQtBWwrkhVGTqygeEN4xk8fGS5syJSdPneKTxmZr8G7grTnwMeSSZLIiJSLrme0TwBGOHul5jZScARYdFzwB1JZ05EREor153CNcBlAO5+H3AfgJkdGJYdn2DeRESkxHLVC4xw9z+mzwzzxiaSIxERKZtcQWFwF8t2LmI+RESkF8gVFOab2XnpM83sXKJhr0VEpIrkqlP4CnC/mZ3GjiDQCAwA/iHBfIn0Gr21w5pIEroMCu6+GviomX0SOCDM/pW7P5l4zkTKKD0Q3LdwBXuOHK0Oa1L18n2ewlNEYxaJ1IRMPZeHN4ynbVXe40CKVCT1ShbJQj2XpRbl26NZ5APiRSwdNGyzSGVTUJBuixexALStXMHFJ8PEiRPLnDMR6S4FBemRjiIWEakOCgpSNHoCmEjlU1CQolm/ZiWzmzYybqWpKEmkQikoSFHpCWAilU1NUkVEJEV3CiJVRPU60lMKCiJVRPU60lMKCiJVRvU60hMKCiJVSkVJ0h0KCiJVSkVJ0h0KCiJVTEVJUigFBSmIHjgjUt0UFKQgmZ4zUC0PnFHAE0mw85qZNZjZU2a22MxeNbN/CfOHmNkTZvZa+L9HmG9mdp2ZNZnZK2Z2cFJ5k56p1ucMdAS8Wc++wa2/ns/GjRvKnSWRkkuyR/M24GJ3nwQcDlxgZpOAS4Hfuvs+wG/DNMBUYJ/wdz5wY4J5kwK0t7ezdOlSli5dGq6gq/cSuloDnki+Eis+cveVwMrw+l0zWwKMAk4AjgrJZgNzga+F+bd5dMZ53swGm9nIsB0po2ouMhKRzkoy9pGZjQU+BLwAjIid6FdB6vwyClgRW60lzJNeQFfQIrUh8aBgZoOAe4GvuPs78WXhrqCgsggzO9/M5pvZ/LVr1xYxpyIikmjrIzPrTxQQ7nD3+8Ls1R3FQmY2ElgT5rcCDbHV68O8Ttz9JuAmgMbGxuot3C6D9GcuqwesSO1JsvWRATcDS9z9B7FFDwFnhtdnAg/G5p8RWiEdDmxUfUJpxVvfXD1nXqcAISK1Ick7hY8BpwN/NLNFYd7lwEzgHjObASwHTgnLHgGmAU3Ae8DZCeZNstAzl0VqW5Ktj54BLMviKRnSO3BBUvkREZHc1KNZqlY+dSTqxSzSmYKCZBQfdrlST5bx/hXZRglVHwyRzhQUJKP4sMuVfLLMVEeSfncwZK96hjeMp21VSzmyWBJ6toLkS0FBsuoYdrnaTpa1eHegZytIvhQUpCZ13EFUW8Drip6tIPlQUKhB8eKT9vZ2APr27VuxdQciUjwKCjWoc/HJS/Sp24Vxf7t/zRSliEh2Cgo1Kl580rduYM0VpYhIZiUZJVVERCqDgoKIiKSo+EhqQjV0xhMpBQWFKqahsHeols54paLvTu1SUKhi8VZGa1uX89nGZsaPH1+zV8rV2hkvCfkMESLVSUGhysVbGc1+enHVXylrgLvi0TDqtUlBoYbUwpVyLQ5hUSiNgyRdUVCQqlOLQ1gUQuMgSVcUFERqkMZBkmzUT0FERFJ0pyBSw1S/IOkUFERqmOoXJJ2CQpWplSaZ6lxVPKpfkDgFhSpTbU0ys5381blKJBkKClWomppkdnXy73ifGteoOHQcBRQUpALk6lmrcY2KQ8dRQEGhomQrSqmVeoSu1EJv7VLQcRQFhQqSrSil2uoRpHdRs9XaoqBQYbIVpVRiPYJaEFUGNVutLYkFBTO7BfgMsMbdDwjzhgA/B8YCy4BT3H29mRlwLTANeA84y90XJpW3alANlYLZ7nxUHNb7qNlq7UjyTmEWcD1wW2zepcBv3X2mmV0apr8GTAX2CX+HATeG/5JFtVQKZrrzUXGYSPkkNvaRu88D3k6bfQIwO7yeDZwYm3+bR54HBpvZyKTyVi06rt4GD6++Q9URLKrxvYn0ZqWuUxjh7ivD61WQugAcBayIpWsJ81aSxszOB84HGD16dHI5LaN48Ul7ezsAffv2reqilHyKw6qhyEyktytbRbO7u5kV/LN295uAmwAaGxur8rTQufjkJfrU7cK4v92/qotS8ikOq5YiM5HerNRDZ6/uKBYK/9eE+a1AQyxdfZhXs+LFJ9VcTBSXz/uslWMhUi6lDgoPAWeG12cCD8bmn2GRw4GNsWImqSLt7e0sXbqUpUuXhiKgqrzZE6lYSTZJvQs4CtjTzFqAbwAzgXvMbAawHDglJH+EqDlqE1GT1LOTyldvUivt9NObmN63cAV7jhytIiCRXiixoODun8+yaEqGtA5ckFReeqtaGekzUxPTSutoJ1Ir1KO5BLpqTTRkr/qa6BRUiT2uRWqRgkIJ5NOaSM0tRaQ3UFAokfiVct+6gR+4alZzSxHpDRQUepFqGrZYdz4ilUlBQRKhOx+RylTqfgpSQ9TRTKTy6E5BRPKmB+5UPwWFhOiZAFKN9MCd6qegENOdHsbZ1tEzAaRa6YE71U1BISbfHsbZhm1Y27qczzY2M378+E4d06qhNZGI1IaaDApd3RFkehJYevpM4/d0nPxnP71YLW6kJqh+oTrVZFAodMyheHqgy/F7qqmvgUhXVL9QnWoyKEDmO4K49M5X8TGKdMIXiah+ofrUbFDokK3nrTpfiUgtqvmg0NXJX0VBIlJr1KMZ9bwVEemgoCAiIikKCiIiklLzdQoi0nPqs1A9FBREpMfiDTbiPfuhZwGiO0PPSM8oKIhIUcRb63X07O9Op7Z8hpEBBYikKCiISNF1BIh4sVJ7eztA6kSePt3VYJLFCDaSHwUFEUlM535AL9GnbhfG/e3+AJ2m00/y8Weax6kHdfIUFEQkUfFipb51AzsNFxOfLoQqtpOjoCAiZZdtuJlskqrYFgUFEekFujPWWCEV24W2YqrlVk8KCiKSGHdn4zvv0Na2jnff2chuAwZmTduTscYyVWzDjpP50qVL+dZtj7LH8L1Zv+YtrjhjKpMmTcq6vaamJprv/w7jRw6heeXb8A+X1Uyldq8KCmZ2HHAt0Bf4qbvPLHOWRKQHNr37Dn9Z+yYM2sq7by7G6gYlur9sxUrPPvss9s5Khu45gLc3tHLvvfeyfPly2tvbGTNmDAMGDGDr1q28+eab9OnTh5aWFj4yYjcmjh7Wafu1cAfRa4KCmfUFbgA+DbQAL5nZQ+6+uLw5k3wVclWY1H43bthIn53bS56H3qJcn0HWPGzaxK51Axi6+0AG7tyfTZv+QlvbOoDE8pepWOnlF5sYPMAYuvtAFr2zkcdXreStd7ewePES+g7fh4kHHMSSBb/HNm9g378Zw5+a3mDTsDX079OPptY2/LXXgOz9JrI1r80niKSnyZauVHpNUAAOBZrcvRnAzO4GTgASCQpv/PlVNmxYT8sbr9Fnp10A8nqdb7paew3w2uJX2LxxLdvXvEZz058ZVD+JPn2S33d8v39avJgBO++Cry1tHnrL96Vcn0G2PKxYvJjdBu/O4IE7sXzFW7S/tY5d3nsLoGT527BhPe+99x6b397An1/biXXr1tJ/lygYbdn6Pu0rm1hft431ra+z2+DdAfjrpne5fX0/ntu6iWUr3ubAeV/nwxPH8ury1aysn0q/nXflrTebmfnqy4yoH8PKN5bSp38dI+rH8M7ba/nsRyZSX19PS0sL9z63lN2GDOs0Py6eBsiaLt3UqVO7XN5d5rmq+UvEzE4GjnP3c8P06cBh7n5hWrrzgfPD5ERgKbA7sDFtk+nz0qf3BNYV7Q10LVP+klg3n7Rdpcm2LJ/jm2leqY5xT45voevnSluNxzdbfpJYt5zf4Vo4vh3pB7v7sIxL3b1X/AEnE9UjdEyfDlyf57o35ZqXYXp+Cd/bB/KXxLr5pO0qTbZl+Rzfch7jnhzfYh/jajy+PT3GlfIdroXjm0/63jR0divQEJuuD/Py8cs85mVKUyo92Xch6+aTtqs02Zblc3zz3X8SerrfYh7jajy+Pd13pXyHa+H45kzfm4qP+gF/BqYQBYOXgC+4+6sJ7W++uzcmsW2J6BgnS8c3WbV6fHtNRbO7bzOzC4FfEzVJvSWpgBDclOC2JaJjnCwd32TV5PHtNXcKIiJSfr2pTkFERMpMQUFERFIUFEREJEVBITCzgWY228x+YmanlTs/1cbMxpvZzWY2p9x5qVZmdmL4/v7czI4pd36qjZntZ2Y/NrM5ZvZ/y52fpFR1UDCzW8xsjZn9/7T5x5nZUjNrMrNLw+yTgDnufh4wveSZrUCFHF93b3b3GeXJaeUq8Bg/EL6/XwI+V478VpoCj+8Sd/8ScArwsXLktxSqOigAs4Dj4jNiA+9NBSYBnzezSUSd5VaEZO0lzGMlm0X+x1e6ZxaFH+N/C8slt1kUcHzNbDrwK+CR0mazdKo6KLj7PODttNmpgffcfSvQMfBeC1FggCo/LsVS4PGVbijkGFvku8Cj7r6w1HmtRIV+h939IXefClRtEXMtnvxGseOOAKJgMAq4D/ismd1Iebu7V7qMx9fMhprZj4EPmdll5cla1cj2Hf4y8CngZDP7UjkyViWyfYePMrPrzOx/qOI7hV7To7nc3P0vwNnlzke1cvc2orJuSYi7XwdcV+58VCt3nwvMLXM2EleLdwo9GXhPctPxTZ6OcbJq+vjWYlB4CdjHzMaZ2QDgVOChMuepmuj4Jk/HOFk1fXyrOiiY2V3Ac8BEM2sxsxnuvg3oGHhvCXBPwgPvVS0d3+TpGCdLx/eDNCCeiIikVPWdgoiIFEZBQUREUhQUREQkRUFBRERSFBRERCRFQUFERFIUFERKyMwmm9m0cudDJBsFBZHSmgwoKEivpaAg0g1m9oCZLTCzV83s/DBvk5ldFeb9xswONbO5ZtZsZtPDkAnfAj5nZovMTA/CkV5HPZpFusHMhrj722a2M9FYOZ8A1gHT3P1RM7sfGAj8PdGDWma7+2QzOwtodPcLy5V3ka5o6GyR7vlnM/uH8LoB2AfYCjwW5v0R2OLu75vZH4Gxpc+iSOEUFEQKZGZHET3M5iPu/p6ZzQXqgPd9x633dmALgLtvNzP91qQiqE5BpHC7A+tDQNgXOLyAdd8Fdk0mWyI9p6AgUrjHgH5mtgSYCTxfwLpPAZNU0Sy9lSqaRUQkRXcKIiKSoqAgIiIpCgoiIpKioCAiIikKCiIikqKgICIiKQoKIiKSoqAgIiIp/wvW87TQ8KoT7gAAAABJRU5ErkJggg==\n",
       "datasetInfos": [],
       "metadata": {},
       "removedWidgets": [],
       "type": "image"
      }
     },
     "output_type": "display_data"
    }
   ],
   "source": [
    "import seaborn as sns\n",
    "\n",
    "# Downsample and convert to pandas for plotting\n",
    "sample_df = df.select(\"amt\", \"is_fraud\").sample(False, 0.01, seed=42).toPandas()\n",
    "\n",
    "sns.histplot(data=sample_df, x=\"amt\", hue=\"is_fraud\", bins=100, log_scale=True)\n",
    "plt.title(\"Transaction Amount Distribution by Fraud Status\")\n",
    "plt.show()\n"
   ]
  },
  {
   "cell_type": "code",
   "execution_count": 0,
   "metadata": {
    "application/vnd.databricks.v1+cell": {
     "cellMetadata": {
      "byteLimit": 2048000,
      "rowLimit": 10000
     },
     "inputWidgets": {},
     "nuid": "d5b5b1a2-03c2-41a3-9cda-2d694b61276b",
     "showTitle": false,
     "tableResultSettingsMap": {},
     "title": ""
    }
   },
   "outputs": [
    {
     "output_type": "stream",
     "name": "stdout",
     "output_type": "stream",
     "text": [
      "+----------------+-----------------+\n|unique_merchants|unique_categories|\n+----------------+-----------------+\n|             693|               14|\n+----------------+-----------------+\n\n+--------------+-----------------+\n|      category|transaction_count|\n+--------------+-----------------+\n| gas_transport|           131659|\n|   grocery_pos|           123638|\n|          home|           123115|\n|  shopping_pos|           116672|\n|     kids_pets|           113035|\n|  shopping_net|            97543|\n| entertainment|            94014|\n|   food_dining|            91461|\n| personal_care|            90758|\n|health_fitness|            85879|\n+--------------+-----------------+\nonly showing top 10 rows\n\n+-------------+----------+----------+------------------+\n|     category|total_txns|fraud_txns|fraud_rate_percent|\n+-------------+----------+----------+------------------+\n| shopping_net|     97543|      1713|              1.76|\n|     misc_net|     63287|       915|              1.45|\n|  grocery_pos|    123638|      1743|              1.41|\n| shopping_pos|    116672|       843|              0.72|\n|gas_transport|    131659|       618|              0.47|\n|     misc_pos|     79655|       250|              0.31|\n|       travel|     40507|       116|              0.29|\n|  grocery_net|     45452|       134|              0.29|\n|entertainment|     94014|       233|              0.25|\n|personal_care|     90758|       220|              0.24|\n+-------------+----------+----------+------------------+\nonly showing top 10 rows\n\n+--------------------+----------+----------+------------------+\n|            merchant|total_txns|fraud_txns|fraud_rate_percent|\n+--------------------+----------+----------+------------------+\n|   fraud_Kozey-Boehm|      1866|        48|              2.57|\n|fraud_Herman, Tre...|      1300|        33|              2.54|\n|fraud_Kerluke-Abs...|      1838|        41|              2.23|\n|     fraud_Brown PLC|      1176|        26|              2.21|\n|   fraud_Goyette Inc|      1943|        42|              2.16|\n|      fraud_Jast Ltd|      1953|        42|              2.15|\n|    fraud_Terry-Huel|      1996|        43|              2.15|\n|fraud_Schmeler, B...|      1968|        41|              2.08|\n|fraud_Boyer-Reichert|      1908|        38|              1.99|\n|fraud_Langworth, ...|      1969|        39|              1.98|\n+--------------------+----------+----------+------------------+\nonly showing top 10 rows\n\n"
     ]
    }
   ],
   "source": [
    "# Unique merchant & category count\n",
    "df.select(countDistinct(\"merchant\").alias(\"unique_merchants\"),\n",
    "          countDistinct(\"category\").alias(\"unique_categories\")).show()\n",
    "\n",
    "# Top 10 most common categories\n",
    "df.groupBy(\"category\").agg(count(\"*\").alias(\"transaction_count\")) \\\n",
    "  .orderBy(col(\"transaction_count\").desc()) \\\n",
    "  .show(10)\n",
    "\n",
    "# Fraud rate per category\n",
    "df.groupBy(\"category\").agg(\n",
    "    count(\"*\").alias(\"total_txns\"),\n",
    "    sum(\"is_fraud\").alias(\"fraud_txns\"),\n",
    "    round((sum(\"is_fraud\") / count(\"*\")) * 100, 2).alias(\"fraud_rate_percent\")\n",
    ").orderBy(col(\"fraud_rate_percent\").desc()).show(10)\n",
    "\n",
    "# Top 10 merchants with highest fraud rate (min 100 txns for reliability)\n",
    "df.groupBy(\"merchant\").agg(\n",
    "    count(\"*\").alias(\"total_txns\"),\n",
    "    sum(\"is_fraud\").alias(\"fraud_txns\"),\n",
    "    round((sum(\"is_fraud\") / count(\"*\")) * 100, 2).alias(\"fraud_rate_percent\")\n",
    ").filter(\"total_txns > 100\") \\\n",
    " .orderBy(col(\"fraud_rate_percent\").desc()) \\\n",
    " .show(10)"
   ]
  },
  {
   "cell_type": "code",
   "execution_count": 0,
   "metadata": {
    "application/vnd.databricks.v1+cell": {
     "cellMetadata": {
      "byteLimit": 2048000,
      "rowLimit": 10000
     },
     "inputWidgets": {},
     "nuid": "3d673721-fbad-473d-ac11-f9be7228a0d8",
     "showTitle": false,
     "tableResultSettingsMap": {},
     "title": ""
    }
   },
   "outputs": [],
   "source": [
    "#create a binary variable for high risk categories\n",
    "high_risk_cats = [\"shopping_net\", \"misc_net\", \"grocery_pos\"]\n",
    "df = df.withColumn(\"is_high_risk_category\", when(col(\"category\").isin(high_risk_cats), 1).otherwise(0))"
   ]
  },
  {
   "cell_type": "code",
   "execution_count": 0,
   "metadata": {
    "application/vnd.databricks.v1+cell": {
     "cellMetadata": {
      "byteLimit": 2048000,
      "rowLimit": 10000
     },
     "inputWidgets": {},
     "nuid": "7d192f79-8b6e-4f2f-9774-730c9e63096d",
     "showTitle": false,
     "tableResultSettingsMap": {},
     "title": ""
    }
   },
   "outputs": [],
   "source": [
    "#create binary variable to indicate high risk merchants\n",
    "df = df.withColumn(\"is_flagged_merchant\", when(col(\"merchant\").startswith(\"fraud_\"), 1).otherwise(0))\n"
   ]
  },
  {
   "cell_type": "code",
   "execution_count": 0,
   "metadata": {
    "application/vnd.databricks.v1+cell": {
     "cellMetadata": {
      "byteLimit": 2048000,
      "rowLimit": 10000
     },
     "inputWidgets": {},
     "nuid": "12aea409-91a3-43a5-90c8-78850a1ea61b",
     "showTitle": false,
     "tableResultSettingsMap": {},
     "title": ""
    }
   },
   "outputs": [
    {
     "output_type": "stream",
     "name": "stdout",
     "output_type": "stream",
     "text": [
      "+-------------------+-------+-----------+----------+\n|is_flagged_merchant|  count|fraud_count|fraud_rate|\n+-------------------+-------+-----------+----------+\n|                  1|1296675|       7506|      0.58|\n+-------------------+-------+-----------+----------+\n\n"
     ]
    }
   ],
   "source": [
    "#we can observe all the fraud transactions occur in these flagged merchants(could be data leakage!)\n",
    "df.groupBy(\"is_flagged_merchant\").agg(\n",
    "    count(\"*\").alias(\"count\"),\n",
    "    sum(\"is_fraud\").alias(\"fraud_count\"),\n",
    "    round((sum(\"is_fraud\") / count(\"*\")) * 100, 2).alias(\"fraud_rate\")\n",
    ").show()\n"
   ]
  },
  {
   "cell_type": "code",
   "execution_count": 0,
   "metadata": {
    "application/vnd.databricks.v1+cell": {
     "cellMetadata": {
      "byteLimit": 2048000,
      "rowLimit": 10000
     },
     "inputWidgets": {},
     "nuid": "8d0dd710-6eb6-4fba-a7c7-235ad26cb472",
     "showTitle": false,
     "tableResultSettingsMap": {},
     "title": ""
    }
   },
   "outputs": [],
   "source": [
    "#drop merchant column\n",
    "df = df.drop(\"merchant\")\n"
   ]
  },
  {
   "cell_type": "code",
   "execution_count": 0,
   "metadata": {
    "application/vnd.databricks.v1+cell": {
     "cellMetadata": {
      "byteLimit": 2048000,
      "rowLimit": 10000
     },
     "inputWidgets": {},
     "nuid": "289e17f3-4176-42d2-b8d0-fa80c6b94f73",
     "showTitle": false,
     "tableResultSettingsMap": {},
     "title": ""
    }
   },
   "outputs": [],
   "source": [
    "#helper function to calculate distance between merchant and users\n",
    "import math\n",
    "from pyspark.sql.types import DoubleType\n",
    "\n",
    "# Define the haversine distance function\n",
    "def haversine(lat1, lon1, lat2, lon2):\n",
    "    R = 6371.0  # Earth radius in km\n",
    "\n",
    "    lat1, lon1, lat2, lon2 = map(math.radians, [lat1, lon1, lat2, lon2])\n",
    "\n",
    "    dlat = lat2 - lat1\n",
    "    dlon = lon2 - lon1\n",
    "\n",
    "    a = math.sin(dlat/2)**2 + math.cos(lat1) * math.cos(lat2) * math.sin(dlon/2)**2\n",
    "    c = 2 * math.atan2(math.sqrt(a), math.sqrt(1 - a))\n",
    "\n",
    "    return R * c\n",
    "\n",
    "# Register UDF\n",
    "haversine_udf = udf(haversine, DoubleType())"
   ]
  },
  {
   "cell_type": "code",
   "execution_count": 0,
   "metadata": {
    "application/vnd.databricks.v1+cell": {
     "cellMetadata": {
      "byteLimit": 2048000,
      "rowLimit": 10000
     },
     "inputWidgets": {},
     "nuid": "0bf89b63-dc40-4a9e-a16d-8ad8a89b0606",
     "showTitle": false,
     "tableResultSettingsMap": {},
     "title": ""
    }
   },
   "outputs": [],
   "source": [
    "#create distance column\n",
    "df = df.withColumn(\n",
    "    \"distance_km\",\n",
    "    haversine_udf(col(\"lat\"), col(\"long\"), col(\"merch_lat\"), col(\"merch_long\"))\n",
    ")"
   ]
  },
  {
   "cell_type": "code",
   "execution_count": 0,
   "metadata": {
    "application/vnd.databricks.v1+cell": {
     "cellMetadata": {
      "byteLimit": 2048000,
      "rowLimit": 10000
     },
     "inputWidgets": {},
     "nuid": "ca2bd969-a72a-47fe-b5d4-9ac9657b5057",
     "showTitle": false,
     "tableResultSettingsMap": {},
     "title": ""
    }
   },
   "outputs": [
    {
     "output_type": "stream",
     "name": "stdout",
     "output_type": "stream",
     "text": [
      "+----------------------+---------+-----------+------------------+\n|is_distance_suspicious|txn_count|fraud_count|fraud_rate_percent|\n+----------------------+---------+-----------+------------------+\n|                     1|   302851|       1747|              0.58|\n|                     0|   993824|       5759|              0.58|\n+----------------------+---------+-----------+------------------+\n\n"
     ]
    }
   ],
   "source": [
    "# we can observe fraud rate is equal in both brackets (<100 km distance and >100km distance)\n",
    "df = df.withColumn(\n",
    "    \"is_distance_suspicious\",\n",
    "    when(col(\"distance_km\") > 100, 1).otherwise(0)\n",
    ")\n",
    "\n",
    "df.groupBy(\"is_distance_suspicious\").agg(\n",
    "    count(\"*\").alias(\"txn_count\"),\n",
    "    sum(\"is_fraud\").alias(\"fraud_count\"),\n",
    "    round((sum(\"is_fraud\") / count(\"*\")) * 100, 2).alias(\"fraud_rate_percent\")\n",
    ").show()\n"
   ]
  },
  {
   "cell_type": "code",
   "execution_count": 0,
   "metadata": {
    "application/vnd.databricks.v1+cell": {
     "cellMetadata": {
      "byteLimit": 2048000,
      "rowLimit": 10000
     },
     "inputWidgets": {},
     "nuid": "1f173721-8e03-4a44-acf4-868465749e41",
     "showTitle": false,
     "tableResultSettingsMap": {},
     "title": ""
    }
   },
   "outputs": [
    {
     "output_type": "stream",
     "name": "stdout",
     "output_type": "stream",
     "text": [
      "+--------------------+------------------+-----------------+\n|    min(distance_km)|  max(distance_km)| avg(distance_km)|\n+--------------------+------------------+-----------------+\n|0.022254515638533652|152.11717310595034|76.11465060395126|\n+--------------------+------------------+-----------------+\n\n"
     ]
    }
   ],
   "source": [
    "#this tells us that all the transactions have taken place in close proximity to the merchants\n",
    "df.selectExpr(\"min(distance_km)\", \"max(distance_km)\", \"avg(distance_km)\").show()\n",
    "\n"
   ]
  },
  {
   "cell_type": "code",
   "execution_count": 0,
   "metadata": {
    "application/vnd.databricks.v1+cell": {
     "cellMetadata": {
      "byteLimit": 2048000,
      "rowLimit": 10000
     },
     "inputWidgets": {},
     "nuid": "b303b9b0-3e05-41ad-8962-d2189acb561e",
     "showTitle": false,
     "tableResultSettingsMap": {},
     "title": ""
    }
   },
   "outputs": [
    {
     "output_type": "stream",
     "name": "stdout",
     "output_type": "stream",
     "text": [
      "+---------+---------+-----------+------------------+\n|age_group|txn_count|fraud_count|fraud_rate_percent|\n+---------+---------+-----------+------------------+\n|    25-34|   266251|       1399|              0.53|\n|    35-49|   445539|       1879|              0.42|\n|    50-64|   272439|       2047|              0.75|\n|      65+|   216118|       1564|              0.72|\n|      <25|    96328|        617|              0.64|\n+---------+---------+-----------+------------------+\n\n"
     ]
    }
   ],
   "source": [
    "#calculating current age of all users and checking fraud rate in different age brackets\n",
    "df = df.withColumn(\"age\", lit(2020) - year(col(\"dob\")))\n",
    "\n",
    "df = df.withColumn(\"age_group\", when(col(\"age\") < 25, \"<25\")\n",
    "                                 .when((col(\"age\") >= 25) & (col(\"age\") < 35), \"25-34\")\n",
    "                                 .when((col(\"age\") >= 35) & (col(\"age\") < 50), \"35-49\")\n",
    "                                 .when((col(\"age\") >= 50) & (col(\"age\") < 65), \"50-64\")\n",
    "                                 .otherwise(\"65+\"))\n",
    "df.groupBy(\"age_group\").agg(\n",
    "    count(\"*\").alias(\"txn_count\"),\n",
    "    sum(\"is_fraud\").alias(\"fraud_count\"),\n",
    "    round((sum(\"is_fraud\") / count(\"*\")) * 100, 2).alias(\"fraud_rate_percent\")\n",
    ").orderBy(\"age_group\").show()\n"
   ]
  },
  {
   "cell_type": "code",
   "execution_count": 0,
   "metadata": {
    "application/vnd.databricks.v1+cell": {
     "cellMetadata": {
      "byteLimit": 2048000,
      "rowLimit": 10000
     },
     "inputWidgets": {},
     "nuid": "3e926c9b-3e1f-43e7-8bc6-ccf2716949b6",
     "showTitle": false,
     "tableResultSettingsMap": {},
     "title": ""
    }
   },
   "outputs": [],
   "source": [
    "#calculating user based metrics\n",
    "from pyspark.sql import Window\n",
    "\n",
    "user_window = Window.partitionBy(\"cc_num\")\n",
    "\n",
    "df = df.withColumn(\"user_txn_count\", count(\"*\").over(user_window)) \\\n",
    "       .withColumn(\"user_total_amt\", sum(\"amt\").over(user_window)) \\\n",
    "       .withColumn(\"user_avg_amt\", avg(\"amt\").over(user_window)) \\\n",
    "       .withColumn(\"user_std_amt\", stddev(\"amt\").over(user_window))"
   ]
  },
  {
   "cell_type": "code",
   "execution_count": 0,
   "metadata": {
    "application/vnd.databricks.v1+cell": {
     "cellMetadata": {
      "byteLimit": 2048000,
      "rowLimit": 10000
     },
     "inputWidgets": {},
     "nuid": "105c338f-6206-44af-b2f6-04b2767eb562",
     "showTitle": false,
     "tableResultSettingsMap": {},
     "title": ""
    }
   },
   "outputs": [],
   "source": [
    "#creating binary variable for high spending users and users that show low variance in spending\n",
    "from pyspark.sql.functions import when\n",
    "\n",
    "df = df.withColumn(\"is_high_spender\", when(col(\"user_avg_amt\") > 500, 1).otherwise(0)) \\\n",
    "       .withColumn(\"is_low_variance_spend\", when(col(\"user_std_amt\") < 20, 1).otherwise(0))\n"
   ]
  },
  {
   "cell_type": "code",
   "execution_count": 0,
   "metadata": {
    "application/vnd.databricks.v1+cell": {
     "cellMetadata": {
      "byteLimit": 2048000,
      "rowLimit": 10000
     },
     "inputWidgets": {},
     "nuid": "91f76597-28a7-4b08-842c-ab39e65f3acc",
     "showTitle": false,
     "tableResultSettingsMap": {},
     "title": ""
    }
   },
   "outputs": [
    {
     "output_type": "stream",
     "name": "stdout",
     "output_type": "stream",
     "text": [
      "+-----+---------+-----------+----------+\n|state|txn_count|fraud_count|fraud_rate|\n+-----+---------+-----------+----------+\n|   DE|        9|          9|     100.0|\n|   RI|      550|         15|      2.73|\n|   AK|     2120|         36|       1.7|\n|   NV|     5607|         47|      0.84|\n|   CO|    13880|        113|      0.81|\n|   OR|    18597|        149|       0.8|\n|   TN|    17554|        140|       0.8|\n|   NE|    24168|        180|      0.74|\n|   ME|    16505|        119|      0.72|\n|   NH|     8278|         59|      0.71|\n|   OH|    46480|        321|      0.69|\n|   VA|    29250|        198|      0.68|\n|   KS|    22996|        156|      0.68|\n|   SC|    29190|        193|      0.66|\n|   NY|    83501|        555|      0.66|\n|   FL|    42671|        281|      0.66|\n|   MN|    31714|        207|      0.65|\n|   VT|    11768|         72|      0.61|\n|   MD|    26193|        157|       0.6|\n|   SD|    12324|         74|       0.6|\n+-----+---------+-----------+----------+\nonly showing top 20 rows\n\n"
     ]
    }
   ],
   "source": [
    "#chekcing fraud rate by state\n",
    "df.groupBy(\"state\").agg(\n",
    "    count(\"*\").alias(\"txn_count\"),\n",
    "    sum(\"is_fraud\").alias(\"fraud_count\"),\n",
    "    round((sum(\"is_fraud\") / count(\"*\")) * 100, 2).alias(\"fraud_rate\")\n",
    ").orderBy(col(\"fraud_rate\").desc()).show(20)\n"
   ]
  },
  {
   "cell_type": "code",
   "execution_count": 0,
   "metadata": {
    "application/vnd.databricks.v1+cell": {
     "cellMetadata": {
      "byteLimit": 2048000,
      "rowLimit": 10000
     },
     "inputWidgets": {},
     "nuid": "5867c9a6-eeb2-45ba-9bde-5ef411e5d0a9",
     "showTitle": false,
     "tableResultSettingsMap": {},
     "title": ""
    }
   },
   "outputs": [],
   "source": [
    "#create a binary feature indicating high risk states\n",
    "high_risk_states = [\"RI\", \"AK\", \"NV\", \"CO\", \"OR\", \"TN\"]\n",
    "df = df.withColumn(\"is_high_risk_state\", when(col(\"state\").isin(high_risk_states), 1).otherwise(0))\n"
   ]
  },
  {
   "cell_type": "code",
   "execution_count": 0,
   "metadata": {
    "application/vnd.databricks.v1+cell": {
     "cellMetadata": {
      "byteLimit": 2048000,
      "rowLimit": 10000
     },
     "inputWidgets": {},
     "nuid": "b3d64bf5-51ad-4c65-b32f-3987b990d5ae",
     "showTitle": false,
     "tableResultSettingsMap": {},
     "title": ""
    }
   },
   "outputs": [
    {
     "output_type": "stream",
     "name": "stdout",
     "output_type": "stream",
     "text": [
      "+--------------------+---------+-----------+----------+\n|                 job|txn_count|fraud_count|fraud_rate|\n+--------------------+---------+-----------+----------+\n|   Warehouse manager|        7|          7|     100.0|\n|  Veterinary surgeon|        8|          8|     100.0|\n|Sales promotion a...|       14|         14|     100.0|\n|Contracting civil...|        7|          7|     100.0|\n|      Engineer, site|       12|         12|     100.0|\n|     Legal secretary|       12|         12|     100.0|\n|Armed forces tech...|        8|          8|     100.0|\n|Broadcast journalist|        9|          9|     100.0|\n|              Dancer|       19|         19|     100.0|\n|   Personnel officer|       12|         12|     100.0|\n|Forest/woodland m...|        9|          9|     100.0|\n|Accountant, chart...|       11|         11|     100.0|\n|    Industrial buyer|       10|         10|     100.0|\n|         Ship broker|        7|          7|     100.0|\n|Air traffic contr...|       17|         17|     100.0|\n|     Careers adviser|       15|         15|     100.0|\n| Information officer|        8|          8|     100.0|\n|           Homeopath|       11|         11|     100.0|\n|           Solicitor|       11|         11|     100.0|\n|              Lawyer|      540|         28|      5.19|\n+--------------------+---------+-----------+----------+\nonly showing top 20 rows\n\n"
     ]
    }
   ],
   "source": [
    "#check fraud rates by job title\n",
    "df.groupBy(\"job\").agg(\n",
    "    count(\"*\").alias(\"txn_count\"),\n",
    "    sum(\"is_fraud\").alias(\"fraud_count\"),\n",
    "    round((sum(\"is_fraud\") / count(\"*\")) * 100, 2).alias(\"fraud_rate\")\n",
    ").orderBy(col(\"fraud_rate\").desc()).show(20)\n"
   ]
  },
  {
   "cell_type": "code",
   "execution_count": 0,
   "metadata": {
    "application/vnd.databricks.v1+cell": {
     "cellMetadata": {
      "byteLimit": 2048000,
      "rowLimit": 10000
     },
     "inputWidgets": {},
     "nuid": "020d3247-2bad-4099-8026-793d732a0bbb",
     "showTitle": false,
     "tableResultSettingsMap": {},
     "title": ""
    }
   },
   "outputs": [
    {
     "output_type": "stream",
     "name": "stdout",
     "output_type": "stream",
     "text": [
      "root\n |-- Unnamed: 0: integer (nullable = true)\n |-- trans_date_trans_time: timestamp (nullable = true)\n |-- cc_num: long (nullable = true)\n |-- category: string (nullable = true)\n |-- amt: double (nullable = true)\n |-- first: string (nullable = true)\n |-- last: string (nullable = true)\n |-- gender: string (nullable = true)\n |-- street: string (nullable = true)\n |-- city: string (nullable = true)\n |-- state: string (nullable = true)\n |-- zip: integer (nullable = true)\n |-- lat: double (nullable = true)\n |-- long: double (nullable = true)\n |-- city_pop: integer (nullable = true)\n |-- job: string (nullable = true)\n |-- dob: date (nullable = true)\n |-- trans_num: string (nullable = true)\n |-- unix_time: integer (nullable = true)\n |-- merch_lat: double (nullable = true)\n |-- merch_long: double (nullable = true)\n |-- is_fraud: integer (nullable = true)\n |-- merch_zipcode: integer (nullable = true)\n |-- day_of_week: integer (nullable = true)\n |-- month: integer (nullable = true)\n |-- year: integer (nullable = true)\n |-- hour: integer (nullable = true)\n |-- is_high_risk_category: integer (nullable = false)\n |-- is_flagged_merchant: integer (nullable = false)\n |-- distance_km: double (nullable = true)\n |-- is_distance_suspicious: integer (nullable = false)\n |-- age: integer (nullable = true)\n |-- age_group: string (nullable = false)\n |-- user_txn_count: long (nullable = false)\n |-- user_total_amt: double (nullable = true)\n |-- user_avg_amt: double (nullable = true)\n |-- user_std_amt: double (nullable = true)\n |-- is_high_spender: integer (nullable = false)\n |-- is_low_variance_spend: integer (nullable = false)\n |-- is_high_risk_state: integer (nullable = false)\n\n"
     ]
    }
   ],
   "source": [
    "df.printSchema()"
   ]
  },
  {
   "cell_type": "code",
   "execution_count": 0,
   "metadata": {
    "application/vnd.databricks.v1+cell": {
     "cellMetadata": {
      "byteLimit": 2048000,
      "rowLimit": 10000
     },
     "inputWidgets": {},
     "nuid": "1797821f-d023-4fd6-97c4-dbbac2687249",
     "showTitle": false,
     "tableResultSettingsMap": {},
     "title": ""
    }
   },
   "outputs": [],
   "source": [
    "#drop columns that are not relevant for modeling\n",
    "cols_to_drop = [\n",
    "    \"Unnamed: 0\", \"first\", \"last\", \"street\", \"city\", \"job\", \"dob\", \"trans_num\",\n",
    "    \"unix_time\", \"is_flagged_merchant\", \"is_distance_suspicious\", \"year\",\n",
    "    \"merch_zipcode\", \"cc_num\"  # optional\n",
    "]\n",
    "df = df.drop(*cols_to_drop)\n"
   ]
  },
  {
   "cell_type": "code",
   "execution_count": 0,
   "metadata": {
    "application/vnd.databricks.v1+cell": {
     "cellMetadata": {
      "byteLimit": 2048000,
      "rowLimit": 10000
     },
     "inputWidgets": {},
     "nuid": "009cf47f-5018-4d18-85f6-d6c808400429",
     "showTitle": false,
     "tableResultSettingsMap": {},
     "title": ""
    }
   },
   "outputs": [],
   "source": [
    "#drop state column\n",
    "df = df.drop(\"state\")\n"
   ]
  },
  {
   "cell_type": "code",
   "execution_count": 0,
   "metadata": {
    "application/vnd.databricks.v1+cell": {
     "cellMetadata": {
      "byteLimit": 2048000,
      "rowLimit": 10000
     },
     "inputWidgets": {},
     "nuid": "cc5e3786-0afc-454d-b65b-f842268ba877",
     "showTitle": false,
     "tableResultSettingsMap": {},
     "title": ""
    }
   },
   "outputs": [],
   "source": [
    "#one-hot encode categorical columns\n",
    "from pyspark.ml.feature import StringIndexer\n",
    "\n",
    "# Indexing categorical columns\n",
    "category_indexer = StringIndexer(inputCol=\"category\", outputCol=\"category_index\")\n",
    "gender_indexer = StringIndexer(inputCol=\"gender\", outputCol=\"gender_index\")\n",
    "age_group_indexer = StringIndexer(inputCol=\"age_group\", outputCol=\"age_group_index\")\n",
    "\n",
    "# Apply transformations\n",
    "df = category_indexer.fit(df).transform(df)\n",
    "df = gender_indexer.fit(df).transform(df)\n",
    "df = age_group_indexer.fit(df).transform(df)\n"
   ]
  },
  {
   "cell_type": "code",
   "execution_count": 0,
   "metadata": {
    "application/vnd.databricks.v1+cell": {
     "cellMetadata": {
      "byteLimit": 2048000,
      "rowLimit": 10000
     },
     "inputWidgets": {},
     "nuid": "457c9def-9f4e-44b4-a90f-07ed227ca78d",
     "showTitle": false,
     "tableResultSettingsMap": {},
     "title": ""
    }
   },
   "outputs": [],
   "source": [
    "\n",
    "#create input feature array using vector assembler\n",
    "df = df.drop(\"category\", \"gender\", \"age_group\")\n",
    "from pyspark.ml.feature import VectorAssembler\n",
    "\n",
    "feature_cols = [\n",
    "    \"amt\", \"city_pop\", \"lat\", \"long\", \"merch_lat\", \"merch_long\",\n",
    "    \"day_of_week\", \"month\", \"hour\", \"distance_km\", \"age\",\n",
    "    \"user_txn_count\", \"user_total_amt\", \"user_avg_amt\", \"user_std_amt\",\n",
    "    \"is_high_risk_category\", \"is_high_spender\", \"is_low_variance_spend\",\n",
    "    \"is_high_risk_state\", \"category_index\", \"gender_index\", \"age_group_index\"\n",
    "]\n",
    "\n",
    "assembler = VectorAssembler(inputCols=feature_cols, outputCol=\"features\")\n",
    "df = assembler.transform(df)\n"
   ]
  },
  {
   "cell_type": "code",
   "execution_count": 0,
   "metadata": {
    "application/vnd.databricks.v1+cell": {
     "cellMetadata": {
      "byteLimit": 2048000,
      "rowLimit": 10000
     },
     "inputWidgets": {},
     "nuid": "6b4c2532-798f-4b1f-9da3-b59fb52f437c",
     "showTitle": false,
     "tableResultSettingsMap": {},
     "title": ""
    }
   },
   "outputs": [
    {
     "output_type": "stream",
     "name": "stdout",
     "output_type": "stream",
     "text": [
      "AUC: 0.8380979321337966\n"
     ]
    }
   ],
   "source": [
    "#divide data into train and test split\n",
    "train_df, test_df = df.randomSplit([0.8, 0.2], seed=42)\n",
    "from pyspark.ml.classification import LogisticRegression\n",
    "#fit logistic model in the data\n",
    "lr = LogisticRegression(featuresCol=\"features\", labelCol=\"is_fraud\")\n",
    "model = lr.fit(train_df)\n",
    "predictions = model.transform(test_df)\n",
    "from pyspark.ml.evaluation import BinaryClassificationEvaluator\n",
    "#evaluate the logistic model\n",
    "evaluator = BinaryClassificationEvaluator(labelCol=\"is_fraud\", metricName=\"areaUnderROC\")\n",
    "auc = evaluator.evaluate(predictions)\n",
    "print(f\"AUC: {auc}\")"
   ]
  },
  {
   "cell_type": "code",
   "execution_count": 0,
   "metadata": {
    "application/vnd.databricks.v1+cell": {
     "cellMetadata": {
      "byteLimit": 2048000,
      "rowLimit": 10000
     },
     "inputWidgets": {},
     "nuid": "38ca5feb-f283-4ce1-a3d0-00e5f7057e08",
     "showTitle": false,
     "tableResultSettingsMap": {},
     "title": ""
    }
   },
   "outputs": [
    {
     "output_type": "stream",
     "name": "stdout",
     "output_type": "stream",
     "text": [
      "Confusion Matrix:\nTP: 152, FP: 92\nFN: 1296, TN: 257302\n\nPrecision: 0.6230\nRecall:    0.1050\nF1 Score:  0.1797\n"
     ]
    }
   ],
   "source": [
    "# Round logistic regression predictions\n",
    "predictions = predictions.withColumn(\"prediction_label\", col(\"prediction\").cast(\"int\"))\n",
    "# True Positive\n",
    "tp = predictions.filter((col(\"prediction_label\") == 1) & (col(\"is_fraud\") == 1)).count()\n",
    "\n",
    "# True Negative\n",
    "tn = predictions.filter((col(\"prediction_label\") == 0) & (col(\"is_fraud\") == 0)).count()\n",
    "\n",
    "# False Positive\n",
    "fp = predictions.filter((col(\"prediction_label\") == 1) & (col(\"is_fraud\") == 0)).count()\n",
    "\n",
    "# False Negative\n",
    "fn = predictions.filter((col(\"prediction_label\") == 0) & (col(\"is_fraud\") == 1)).count()\n",
    "# Avoid divide-by-zero\n",
    "precision = tp / (tp + fp) if (tp + fp) > 0 else 0\n",
    "recall = tp / (tp + fn) if (tp + fn) > 0 else 0\n",
    "f1 = 2 * precision * recall / (precision + recall) if (precision + recall) > 0 else 0\n",
    "\n",
    "print(f\"Confusion Matrix:\")\n",
    "print(f\"TP: {tp}, FP: {fp}\")\n",
    "print(f\"FN: {fn}, TN: {tn}\")\n",
    "print()\n",
    "print(f\"Precision: {precision:.4f}\")\n",
    "print(f\"Recall:    {recall:.4f}\")\n",
    "print(f\"F1 Score:  {f1:.4f}\")\n"
   ]
  },
  {
   "cell_type": "code",
   "execution_count": 0,
   "metadata": {
    "application/vnd.databricks.v1+cell": {
     "cellMetadata": {
      "byteLimit": 2048000,
      "rowLimit": 10000
     },
     "inputWidgets": {},
     "nuid": "7311f000-90c7-4237-ad71-53ea7396a9cf",
     "showTitle": false,
     "tableResultSettingsMap": {},
     "title": ""
    }
   },
   "outputs": [
    {
     "output_type": "stream",
     "name": "stdout",
     "output_type": "stream",
     "text": [
      "Random Forest AUC: 0.9903\nConfusion Matrix:\nTP: 794, FP: 18\nFN: 654, TN: 257376\n\nPrecision: 0.9778\nRecall:    0.5483\nF1 Score:  0.7027\n"
     ]
    }
   ],
   "source": [
    "#fit random forest classifier\n",
    "from pyspark.ml.classification import RandomForestClassifier\n",
    "\n",
    "rf = RandomForestClassifier(\n",
    "    featuresCol=\"features\",\n",
    "    labelCol=\"is_fraud\",\n",
    "    numTrees=100,\n",
    "    maxDepth=10,\n",
    "    seed=42\n",
    ")\n",
    "\n",
    "rf_model = rf.fit(train_df)\n",
    "rf_predictions = rf_model.transform(test_df)\n",
    "\n",
    "evaluator = BinaryClassificationEvaluator(labelCol=\"is_fraud\", metricName=\"areaUnderROC\")\n",
    "auc = evaluator.evaluate(rf_predictions)\n",
    "print(f\"Random Forest AUC: {auc:.4f}\")\n",
    "\n",
    "# Cast prediction to int\n",
    "rf_predictions = rf_predictions.withColumn(\"prediction_label\", col(\"prediction\").cast(\"int\"))\n",
    "\n",
    "# Confusion matrix components\n",
    "tp = rf_predictions.filter((col(\"prediction_label\") == 1) & (col(\"is_fraud\") == 1)).count()\n",
    "fp = rf_predictions.filter((col(\"prediction_label\") == 1) & (col(\"is_fraud\") == 0)).count()\n",
    "fn = rf_predictions.filter((col(\"prediction_label\") == 0) & (col(\"is_fraud\") == 1)).count()\n",
    "tn = rf_predictions.filter((col(\"prediction_label\") == 0) & (col(\"is_fraud\") == 0)).count()\n",
    "\n",
    "# Precision, Recall, F1\n",
    "precision = tp / (tp + fp) if (tp + fp) > 0 else 0\n",
    "recall = tp / (tp + fn) if (tp + fn) > 0 else 0\n",
    "f1 = 2 * precision * recall / (precision + recall) if (precision + recall) > 0 else 0\n",
    "\n",
    "# Display results\n",
    "print(f\"Confusion Matrix:\")\n",
    "print(f\"TP: {tp}, FP: {fp}\")\n",
    "print(f\"FN: {fn}, TN: {tn}\\n\")\n",
    "\n",
    "print(f\"Precision: {precision:.4f}\")\n",
    "print(f\"Recall:    {recall:.4f}\")\n",
    "print(f\"F1 Score:  {f1:.4f}\")"
   ]
  },
  {
   "cell_type": "code",
   "execution_count": 0,
   "metadata": {
    "application/vnd.databricks.v1+cell": {
     "cellMetadata": {
      "byteLimit": 2048000,
      "rowLimit": 10000
     },
     "inputWidgets": {},
     "nuid": "1da5f125-471c-4285-8933-ce4ba1fcbd57",
     "showTitle": false,
     "tableResultSettingsMap": {},
     "title": ""
    }
   },
   "outputs": [
    {
     "output_type": "stream",
     "name": "stdout",
     "output_type": "stream",
     "text": [
      "Threshold  Precision  Recall     F1 Score  \n---------------------------------------------\n0.50       0.9778     0.5483     0.7027    \n0.40       0.9613     0.6008     0.7395    \n0.30       0.9380     0.7003     0.8019    \n0.20       0.8599     0.7756     0.8155    \n0.10       0.6226     0.8260     0.7100    \n"
     ]
    }
   ],
   "source": [
    "#experiment with different probability thresholds \n",
    "import numpy as np\n",
    "\n",
    "# Step 1: Extract fraud probability\n",
    "get_prob_fraud = udf(lambda v: float(v[1]), DoubleType())\n",
    "rf_predictions = rf_predictions.withColumn(\"fraud_prob\", get_prob_fraud(col(\"probability\")))\n",
    "\n",
    "# Step 2: Test multiple thresholds\n",
    "thresholds = [0.5, 0.4, 0.3, 0.2, 0.1]\n",
    "\n",
    "print(f\"{'Threshold':<10} {'Precision':<10} {'Recall':<10} {'F1 Score':<10}\")\n",
    "print(\"-\" * 45)\n",
    "\n",
    "for threshold in thresholds:\n",
    "    # Apply threshold\n",
    "    thresholded = rf_predictions.withColumn(\"custom_prediction\", (col(\"fraud_prob\") > threshold).cast(\"int\"))\n",
    "\n",
    "    # Confusion matrix components\n",
    "    tp = thresholded.filter((col(\"custom_prediction\") == 1) & (col(\"is_fraud\") == 1)).count()\n",
    "    fp = thresholded.filter((col(\"custom_prediction\") == 1) & (col(\"is_fraud\") == 0)).count()\n",
    "    fn = thresholded.filter((col(\"custom_prediction\") == 0) & (col(\"is_fraud\") == 1)).count()\n",
    "\n",
    "    # Precision, Recall, F1\n",
    "    precision = tp / (tp + fp) if (tp + fp) > 0 else 0\n",
    "    recall = tp / (tp + fn) if (tp + fn) > 0 else 0\n",
    "    f1 = 2 * precision * recall / (precision + recall) if (precision + recall) > 0 else 0\n",
    "\n",
    "    print(f\"{threshold:<10.2f} {precision:<10.4f} {recall:<10.4f} {f1:<10.4f}\")"
   ]
  },
  {
   "cell_type": "code",
   "execution_count": 0,
   "metadata": {
    "application/vnd.databricks.v1+cell": {
     "cellMetadata": {
      "byteLimit": 2048000,
      "rowLimit": 10000
     },
     "inputWidgets": {},
     "nuid": "2b5d9b7d-6138-4c3d-9436-a22f07987732",
     "showTitle": false,
     "tableResultSettingsMap": {},
     "title": ""
    }
   },
   "outputs": [
    {
     "output_type": "stream",
     "name": "stdout",
     "output_type": "stream",
     "text": [
      "                  Feature  Importance\n0                     amt    0.274210\n19         category_index    0.174326\n8                    hour    0.151134\n16        is_high_spender    0.066240\n10                    age    0.062164\n13           user_avg_amt    0.055713\n12         user_total_amt    0.040718\n21        age_group_index    0.033525\n15  is_high_risk_category    0.031483\n11         user_txn_count    0.029752\n20           gender_index    0.019590\n14           user_std_amt    0.019172\n1                city_pop    0.018026\n7                   month    0.004577\n2                     lat    0.004005\n4               merch_lat    0.003923\n5              merch_long    0.003342\n6             day_of_week    0.002796\n3                    long    0.002518\n9             distance_km    0.002359\n18     is_high_risk_state    0.000428\n17  is_low_variance_spend    0.000000\n"
     ]
    }
   ],
   "source": [
    "#visualize feature importance\n",
    "import pandas as pd\n",
    "\n",
    "# Get list of features (must match order used in VectorAssembler)\n",
    "feature_cols = [\n",
    "    \"amt\", \"city_pop\", \"lat\", \"long\", \"merch_lat\", \"merch_long\",\n",
    "    \"day_of_week\", \"month\", \"hour\", \"distance_km\", \"age\",\n",
    "    \"user_txn_count\", \"user_total_amt\", \"user_avg_amt\", \"user_std_amt\",\n",
    "    \"is_high_risk_category\", \"is_high_spender\", \"is_low_variance_spend\",\n",
    "    \"is_high_risk_state\", \"category_index\", \"gender_index\", \"age_group_index\"\n",
    "]\n",
    "\n",
    "# Extract importance\n",
    "importances = rf_model.featureImportances.toArray()\n",
    "\n",
    "# Create DataFrame for easy viewing\n",
    "importance_df = pd.DataFrame(list(zip(feature_cols, importances)),\n",
    "                             columns=[\"Feature\", \"Importance\"])\n",
    "importance_df = importance_df.sort_values(by=\"Importance\", ascending=False)\n",
    "\n",
    "print(importance_df)\n"
   ]
  },
  {
   "cell_type": "code",
   "execution_count": 0,
   "metadata": {
    "application/vnd.databricks.v1+cell": {
     "cellMetadata": {
      "byteLimit": 2048000,
      "rowLimit": 10000
     },
     "inputWidgets": {},
     "nuid": "d24c5162-36db-4ad9-b65e-3cd75785f0c6",
     "showTitle": false,
     "tableResultSettingsMap": {},
     "title": ""
    }
   },
   "outputs": [
    {
     "output_type": "display_data",
     "data": {
      "image/png": "[encoded data removed]"
     },
     "metadata": {
      "application/vnd.databricks.v1+output": {
       "addedWidgets": {},
       "arguments": {},
       "data": "data:image/png;base64,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\n",
       "datasetInfos": [],
       "metadata": {},
       "removedWidgets": [],
       "type": "image"
      }
     },
     "output_type": "display_data"
    }
   ],
   "source": [
    "# Extract fraud probability\n",
    "get_prob_fraud = udf(lambda v: float(v[1]), DoubleType())\n",
    "rf_predictions = rf_predictions.withColumn(\"fraud_prob\", get_prob_fraud(col(\"probability\")))\n",
    "\n",
    "# Apply 0.2 threshold\n",
    "rf_predictions = rf_predictions.withColumn(\"custom_prediction\", (col(\"fraud_prob\") > 0.2).cast(\"int\"))\n",
    "\n",
    "# Get confusion matrix values\n",
    "tp = rf_predictions.filter((col(\"custom_prediction\") == 1) & (col(\"is_fraud\") == 1)).count()\n",
    "fp = rf_predictions.filter((col(\"custom_prediction\") == 1) & (col(\"is_fraud\") == 0)).count()\n",
    "fn = rf_predictions.filter((col(\"custom_prediction\") == 0) & (col(\"is_fraud\") == 1)).count()\n",
    "tn = rf_predictions.filter((col(\"custom_prediction\") == 0) & (col(\"is_fraud\") == 0)).count()\n",
    "\n",
    "# Create confusion matrix\n",
    "cm = np.array([[tn, fp],\n",
    "               [fn, tp]])\n",
    "\n",
    "cm_df = pd.DataFrame(cm, index=[\"Actual: Non-Fraud\", \"Actual: Fraud\"],\n",
    "                        columns=[\"Predicted: Non-Fraud\", \"Predicted: Fraud\"])\n",
    "\n",
    "# Plot heatmap\n",
    "plt.figure(figsize=(6, 4))\n",
    "sns.heatmap(cm_df, annot=True, fmt=\"d\", cmap=\"Blues\", cbar=False)\n",
    "plt.title(\"Confusion Matrix (Threshold = 0.2)\")\n",
    "plt.ylabel(\"Actual Label\")\n",
    "plt.xlabel(\"Predicted Label\")\n",
    "plt.tight_layout()\n",
    "plt.show()\n"
   ]
  }
 ],
 "metadata": {
  "application/vnd.databricks.v1+notebook": {
   "computePreferences": null,
   "dashboards": [],
   "environmentMetadata": {
    "base_environment": "",
    "environment_version": "1"
   },
   "inputWidgetPreferences": null,
   "language": "python",
   "notebookMetadata": {
    "mostRecentlyExecutedCommandWithImplicitDF": {
     "commandId": 3656832022876622,
     "dataframes": [
      "_sqldf"
     ]
    },
    "pythonIndentUnit": 4
   },
   "notebookName": "Fraud Detection Analysis",
   "widgets": {}
  }
 },
 "nbformat": 4,
 "nbformat_minor": 0
}